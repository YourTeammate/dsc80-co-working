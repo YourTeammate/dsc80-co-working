{
 "cells": [
  {
   "cell_type": "markdown",
   "metadata": {},
   "source": [
    "# DSC 80: Project 01\n",
    "\n",
    "### Checkpoint Due Date: Thursday April 8, 11:59 PM (Questions 1-4)\n",
    "### Due Date: Thursday April 15, 11:59 PM"
   ]
  },
  {
   "cell_type": "markdown",
   "metadata": {},
   "source": [
    "---\n",
    "# Instructions\n",
    "\n",
    "This Jupyter Notebook contains the statements of the problems and provides code and markdown cells to display your answers to the problems.  \n",
    "* Like the lab, your coding work will be developed in the accompanying `project01.py` file, that will be imported into the current notebook. This code will be autograded.\n",
    "* **For the checkpoint, turn in questions 1-4**\n",
    "\n",
    "**Do not change the function names in the `*.py` file**\n",
    "- The functions in the `*.py` file are how your assignment is graded, and they are graded by their name. The dictionary at the end of the file (`GRADED FUNCTIONS`) contains the \"grading list\". The final function in the file allows your doctests to check that all the necessary functions exist.\n",
    "- If you changed something you weren't supposed to, just use git to revert!\n",
    "\n",
    "**Tips for developing in the .py file**:\n",
    "- Do not change the function names in the starter code; grading is done using these function names.\n",
    "- Do not change the docstrings in the functions. These are there to tell you if your work is on the right track!\n",
    "- You are **encouraged to write your own additional functions** to solve the questions! \n",
    "    - Developing in python usually consists of larger files, with many short functions.\n",
    "    - You may write your other functions in an additional `.py` file that you import in `project01.py` -- however, be sure to upload these to gradescope as well!\n",
    "- Always document your code!\n",
    "\n",
    "**Tips for testing the correctness of your answers!**\n",
    "Once you have your work saved in the .py file, you should import the `project01` to test your function out in the notebook. In the notebook you should inspect/analyze the output to assess its correctness!\n",
    "* Run your functions on the main dataset (`grades`) and ask yourself if the output *looks correct.*\n",
    "* Run your functions on very small datasets (e.g. 1-5 row table), calculate the expected response by hand, and see if the function output matches (this *is* unit-testing your code with data).\n",
    "* Run your functions on (large and small) samples of the dataset `grades` (with and without replacement). Does your code break? Or does it still run as expected."
   ]
  },
  {
   "cell_type": "code",
   "execution_count": 2,
   "metadata": {},
   "outputs": [],
   "source": [
    "%load_ext autoreload\n",
    "%autoreload 2"
   ]
  },
  {
   "cell_type": "code",
   "execution_count": 3,
   "metadata": {},
   "outputs": [],
   "source": [
    "import project01 as proj"
   ]
  },
  {
   "cell_type": "code",
   "execution_count": 4,
   "metadata": {},
   "outputs": [],
   "source": [
    "import pandas as pd\n",
    "import numpy as np\n",
    "import os"
   ]
  },
  {
   "cell_type": "markdown",
   "metadata": {},
   "source": [
    "# The Other Side of Gradescope\n",
    "\n",
    "The file contains the grade-book from a fictional data science course with 535 students. \n",
    "\n",
    "**Note: this dataset is synthetically generated; it does not contain real student grades. The course syllabus below is also not the same as the course syllabus for this class!**\n",
    "\n",
    "In this project, you will:\n",
    "1. clean and process the data to compute total course grades according to a fictional syllabus (below),\n",
    "2. qualitatively understand how students did in the course,\n",
    "3. understand how student grades vary with small changes in performance on each assignment.\n",
    "\n",
    "---\n",
    "\n",
    "The course syllabus is as follows:\n",
    "\n",
    "* Lab assignments \n",
    "    - Each are worth the same amount, regardless of each lab's raw point total.\n",
    "    - The lowest lab is dropped.\n",
    "    - Each lab may be revised for one week after submission for a 10% penalty, for two weeks after submission for a 30% penalty, and beyond that for a 60% penalty. Such revisions are reflected in the `Lateness` columns in the gradebook.\n",
    "    - Labs are 20% of the total grade.\n",
    "* Projects \n",
    "    - Each project consists of an autograded portion, and *possibly* a free response portion.\n",
    "    - The total points for a single project consist of the sum of the raw score of the two portions.\n",
    "    - Each are worth the same amount, regardless of each project's raw point total.\n",
    "    - Projects are 30% of the total grade.\n",
    "* Checkpoints\n",
    "    - Project checkpoints are worth 2.5% of the total grade.\n",
    "* Discussion\n",
    "    - Discussion notebooks are worth 2.5% of the total grade.\n",
    "* Exams\n",
    "    - The midterm is worth 15% of the total grade.\n",
    "    - The final is worth 30% of the total grade.\n"
   ]
  },
  {
   "cell_type": "markdown",
   "metadata": {},
   "source": [
    "### A note on generalization\n",
    "\n",
    "You may assume that your code will only need to work on a gradebook for a class with the syllabus given above. That is, you may assume that the dataframe `grades` looks like the given one in `data/grades.csv`.\n",
    "\n",
    "However, such a class:\n",
    "1. may have a different numbers of labs, projects, discussions, and project checkpoints.\n",
    "2. may have a different number of students.\n",
    "\n",
    "You may assume the course components and the naming conventions are as given in the data file.\n",
    "\n",
    "The dataset was generated by Gradescope; you must attempt to reason about the data as given using what you know as a student who uses Gradescope.\n",
    "\n",
    "### A note on 'putting everything together'\n",
    "\n",
    "The goal of this project is to create and assess final grades for a fictional course; if anything, the process is broken down into functions for your convenience and guidance. Here are a few remarks and tips for approaching the projects:\n",
    "1. If you are having trouble figuring out what a question is asking you to do, look at the big picture and try to understand what the current step is doing to contribute to this big picture. This may clarify what's being asked!\n",
    "1. These questions intentionally build off of each other and the final result matters! In fact, you can 'get a question correct', but only receive partial credit on it because a previous answer was wrong.\n",
    "    - Credit for a question will typically receive partial credit based on *how close* your answer is to correct (as well as some credit for a solution in the correct form). \n",
    "    - You should try to assess your answer to each question based on what you understand of the data. This might involve writing extensive code (that isn't turned in) just to check your work! Suggestions on checking your work are given in the assignment, but you should also think of your own ways of checking your work.\n",
    "    - As you do this project, think about the data from the perspective of the student (which should be easy to do!)"
   ]
  },
  {
   "cell_type": "code",
   "execution_count": 5,
   "metadata": {},
   "outputs": [],
   "source": [
    "grades_fp = os.path.join('data', 'grades.csv')\n",
    "grades = pd.read_csv(grades_fp)"
   ]
  },
  {
   "cell_type": "markdown",
   "metadata": {},
   "source": [
    "### Getting started: enumerating the assignments\n",
    "\n",
    "First, you will list all the 'assignment names' and what part of the syllabus to which they belong.\n",
    "\n",
    "**Question 1:**\n",
    "\n",
    "Create a function `get_assignment_names` that takes in a dataframe like `grades` and returns a dictionary with the following structure:\n",
    "- The keys are the general areas of the syllabus: `lab, project, midterm, final, disc, checkpoint`\n",
    "- The values are lists that contain the assignment names of that type. For example the lab assignments all have names of the form `labXX` where `XX` is a zero-padded two digit number. See the doctests for more details."
   ]
  },
  {
   "cell_type": "code",
   "execution_count": 34,
   "metadata": {
    "scrolled": true
   },
   "outputs": [
    {
     "data": {
      "text/plain": [
       "Index(['PID', 'College', 'Level', 'lab01', 'lab01 - Max Points',\n",
       "       'lab01 - Lateness (H:M:S)', 'lab02', 'lab02 - Max Points',\n",
       "       'lab02 - Lateness (H:M:S)', 'project01', 'project01 - Max Points',\n",
       "       'project01 - Lateness (H:M:S)', 'lab03', 'lab03 - Max Points',\n",
       "       'lab03 - Lateness (H:M:S)', 'project01_free_response',\n",
       "       'project01_free_response - Max Points',\n",
       "       'project01_free_response - Lateness (H:M:S)', 'lab04',\n",
       "       'lab04 - Max Points', 'lab04 - Lateness (H:M:S)', 'lab05',\n",
       "       'lab05 - Max Points', 'lab05 - Lateness (H:M:S)',\n",
       "       'project02_checkpoint01', 'project02_checkpoint01 - Max Points',\n",
       "       'project02_checkpoint01 - Lateness (H:M:S)', 'Midterm',\n",
       "       'Midterm - Max Points', 'Midterm - Lateness (H:M:S)', 'lab06',\n",
       "       'lab06 - Max Points', 'lab06 - Lateness (H:M:S)',\n",
       "       'project02_checkpoint02', 'project02_checkpoint02 - Max Points',\n",
       "       'project02_checkpoint02 - Lateness (H:M:S)', 'lab07',\n",
       "       'lab07 - Max Points', 'lab07 - Lateness (H:M:S)', 'project02',\n",
       "       'project02 - Max Points', 'project02 - Lateness (H:M:S)',\n",
       "       'project02_free_response', 'project02_free_response - Max Points',\n",
       "       'project02_free_response - Lateness (H:M:S)', 'lab08',\n",
       "       'lab08 - Max Points', 'lab08 - Lateness (H:M:S)', 'lab09',\n",
       "       'lab09 - Max Points', 'lab09 - Lateness (H:M:S)',\n",
       "       'project03_checkpoint01', 'project03_checkpoint01 - Max Points',\n",
       "       'project03_checkpoint01 - Lateness (H:M:S)', 'project03',\n",
       "       'project03 - Max Points', 'project03 - Lateness (H:M:S)', 'Final',\n",
       "       'Final - Max Points', 'Final - Lateness (H:M:S)',\n",
       "       'Total Lateness (H:M:S)', 'project05_free_response',\n",
       "       'project05_free_response - Max Points',\n",
       "       'project05_free_response - Lateness (H:M:S)', 'project04',\n",
       "       'project04 - Max Points', 'project04 - Lateness (H:M:S)', 'project05',\n",
       "       'project05 - Max Points', 'project05 - Lateness (H:M:S)',\n",
       "       'discussion01', 'discussion01 - Max Points',\n",
       "       'discussion01 - Lateness (H:M:S)', 'discussion02',\n",
       "       'discussion02 - Max Points', 'discussion02 - Lateness (H:M:S)',\n",
       "       'discussion03', 'discussion03 - Max Points',\n",
       "       'discussion03 - Lateness (H:M:S)', 'discussion04',\n",
       "       'discussion04 - Max Points', 'discussion04 - Lateness (H:M:S)',\n",
       "       'discussion05', 'discussion05 - Max Points',\n",
       "       'discussion05 - Lateness (H:M:S)', 'discussion06',\n",
       "       'discussion06 - Max Points', 'discussion06 - Lateness (H:M:S)',\n",
       "       'discussion07', 'discussion07 - Max Points',\n",
       "       'discussion07 - Lateness (H:M:S)', 'discussion08',\n",
       "       'discussion08 - Max Points', 'discussion08 - Lateness (H:M:S)',\n",
       "       'discussion09', 'discussion09 - Max Points',\n",
       "       'discussion09 - Lateness (H:M:S)', 'discussion10',\n",
       "       'discussion10 - Max Points', 'discussion10 - Lateness (H:M:S)'],\n",
       "      dtype='object')"
      ]
     },
     "execution_count": 34,
     "metadata": {},
     "output_type": "execute_result"
    }
   ],
   "source": [
    "col = grades.columns\n",
    "col"
   ]
  },
  {
   "cell_type": "code",
   "execution_count": 35,
   "metadata": {},
   "outputs": [
    {
     "data": {
      "text/plain": [
       "{'lab': ['lab01',\n",
       "  'lab02',\n",
       "  'lab03',\n",
       "  'lab04',\n",
       "  'lab05',\n",
       "  'lab06',\n",
       "  'lab07',\n",
       "  'lab08',\n",
       "  'lab09'],\n",
       " 'project': ['project01', 'project02', 'project03', 'project04', 'project05'],\n",
       " 'midterm': ['Midterm'],\n",
       " 'final': ['Final'],\n",
       " 'discussion': ['discussion01',\n",
       "  'discussion02',\n",
       "  'discussion03',\n",
       "  'discussion04',\n",
       "  'discussion05',\n",
       "  'discussion06',\n",
       "  'discussion07',\n",
       "  'discussion08',\n",
       "  'discussion09',\n",
       "  'discussion10'],\n",
       " 'checkpoint': ['project02_checkpoint01',\n",
       "  'project02_checkpoint02',\n",
       "  'project03_checkpoint01']}"
      ]
     },
     "execution_count": 35,
     "metadata": {},
     "output_type": "execute_result"
    }
   ],
   "source": [
    "proj.get_assignment_names(grades)"
   ]
  },
  {
   "cell_type": "markdown",
   "metadata": {},
   "source": [
    "### Computing project grades\n",
    "\n",
    "**Question 2**\n",
    "\n",
    "Compute the total score for the project portion of the course according to the syllabus. Create a function `projects_total` that takes in `grades` and computes the total project grade for the quarter according to the syllabus. The output Series should contain values between 0 and 1.\n",
    "\n",
    "*Note*: Don't forget to properly handle students who didn't turn in assignments! (Use your experience and common sense).\n",
    "\n",
    "*Note:* To check your work, try (1) calculating the score for a few types of students by hand, and (2) calculate the statistics for the class performance on each individual course project, making sure they look reasonable."
   ]
  },
  {
   "cell_type": "code",
   "execution_count": 40,
   "metadata": {},
   "outputs": [
    {
     "data": {
      "text/plain": [
       "0      377.950220\n",
       "1      311.621228\n",
       "2      273.720718\n",
       "3      393.247452\n",
       "4      299.005399\n",
       "          ...    \n",
       "530    389.877123\n",
       "531    361.085118\n",
       "532    353.410738\n",
       "533    339.428174\n",
       "534    382.789812\n",
       "Length: 535, dtype: float64"
      ]
     },
     "execution_count": 40,
     "metadata": {},
     "output_type": "execute_result"
    }
   ],
   "source": [
    "project = col[col.str.len() == 9]\n",
    "project = project[project.str.contains('project')]\n",
    "proj_grades = grades[project].sum(axis = 1)\n",
    "proj_grades"
   ]
  },
  {
   "cell_type": "code",
   "execution_count": 54,
   "metadata": {},
   "outputs": [
    {
     "data": {
      "text/plain": [
       "0      0.276549\n",
       "1      0.228016\n",
       "2      0.200283\n",
       "3      0.287742\n",
       "4      0.218784\n",
       "         ...   \n",
       "530    0.285276\n",
       "531    0.264209\n",
       "532    0.258593\n",
       "533    0.248362\n",
       "534    0.280090\n",
       "Length: 535, dtype: float64"
      ]
     },
     "execution_count": 54,
     "metadata": {},
     "output_type": "execute_result"
    }
   ],
   "source": [
    "project_max = col[col.str.contains('project')]\n",
    "project_max = project_max[project_max.str.len() == 22]\n",
    "project_max = project_max[project_max.str.contains('Max')]\n",
    "max_score = grades[project_max].iloc[0].sum()\n",
    "proj_grades / max_score"
   ]
  },
  {
   "cell_type": "code",
   "execution_count": 57,
   "metadata": {},
   "outputs": [
    {
     "data": {
      "text/plain": [
       "0      0.276549\n",
       "1      0.228016\n",
       "2      0.200283\n",
       "3      0.287742\n",
       "4      0.218784\n",
       "         ...   \n",
       "530    0.285276\n",
       "531    0.264209\n",
       "532    0.258593\n",
       "533    0.248362\n",
       "534    0.280090\n",
       "Length: 535, dtype: float64"
      ]
     },
     "execution_count": 57,
     "metadata": {},
     "output_type": "execute_result"
    }
   ],
   "source": [
    "proj.projects_total(grades)"
   ]
  },
  {
   "cell_type": "markdown",
   "metadata": {},
   "source": [
    "### Computing lab grades\n",
    "\n",
    "Now, you will clean and process the lab grades, which is a little more complicated. To do this, you will develop functions that:\n",
    "- 'normalize' the grades, \n",
    "- adjust for late submissions, \n",
    "- drop the lowest lab grade, and \n",
    "- creates a total lab score for each student."
   ]
  },
  {
   "cell_type": "markdown",
   "metadata": {},
   "source": [
    "**Question 3**\n",
    "\n",
    "Unfortunately, Gradescope sometimes experiences a delay in registering when an assignment is submitted during \"periods of heavy usage\" (i.e. near a submission deadline). You need to assess when a student's assignment was actually turned in on time, even if Gradescope did not process it in time. To do this, it is helpful to know:\n",
    "* Every late submission has to be submitted by a TA (late submissions are turned off).\n",
    "* TAs never submitted a late assignment \"just after\" the deadline. \n",
    "* The deadlines were at midnight and students had to come to staff hours to late-submit their assignment.\n",
    "\n",
    "Create a function `last_minute_submissions` that takes in the dataframe `grades` and outputs the number of submissions on each assignment that were turned in on time by the student, yet marked 'late' by Gradescope. See the doctest for more details.\n",
    "\n",
    "*Note:* You have to figure out what truly is a late submission by looking at the data and understanding the facts about the data generating process above. There is some ambiguity in finding which submissions are truly late; you will *make a best guess for a threshold* by looking at this dataset. This question is about 'cleaning' a messy 'data recording process'."
   ]
  },
  {
   "cell_type": "code",
   "execution_count": 59,
   "metadata": {},
   "outputs": [
    {
     "data": {
      "text/plain": [
       "lab01     2\n",
       "lab02     0\n",
       "lab03     2\n",
       "lab04    12\n",
       "lab05     7\n",
       "lab06     8\n",
       "lab07    16\n",
       "lab08    11\n",
       "lab09    26\n",
       "dtype: int64"
      ]
     },
     "execution_count": 59,
     "metadata": {},
     "output_type": "execute_result"
    }
   ],
   "source": [
    "proj.last_minute_submissions(grades)"
   ]
  },
  {
   "cell_type": "code",
   "execution_count": 73,
   "metadata": {},
   "outputs": [
    {
     "data": {
      "text/html": [
       "<div>\n",
       "<style scoped>\n",
       "    .dataframe tbody tr th:only-of-type {\n",
       "        vertical-align: middle;\n",
       "    }\n",
       "\n",
       "    .dataframe tbody tr th {\n",
       "        vertical-align: top;\n",
       "    }\n",
       "\n",
       "    .dataframe thead th {\n",
       "        text-align: right;\n",
       "    }\n",
       "</style>\n",
       "<table border=\"1\" class=\"dataframe\">\n",
       "  <thead>\n",
       "    <tr style=\"text-align: right;\">\n",
       "      <th></th>\n",
       "      <th>lab01</th>\n",
       "      <th>lab01 - Max Points</th>\n",
       "      <th>lab01 - Lateness (H:M:S)</th>\n",
       "    </tr>\n",
       "  </thead>\n",
       "  <tbody>\n",
       "    <tr>\n",
       "      <th>20</th>\n",
       "      <td>98.783373</td>\n",
       "      <td>100.0</td>\n",
       "      <td>96:09:33</td>\n",
       "    </tr>\n",
       "    <tr>\n",
       "      <th>33</th>\n",
       "      <td>72.943608</td>\n",
       "      <td>100.0</td>\n",
       "      <td>55:41:56</td>\n",
       "    </tr>\n",
       "    <tr>\n",
       "      <th>34</th>\n",
       "      <td>100.000000</td>\n",
       "      <td>100.0</td>\n",
       "      <td>50:09:44</td>\n",
       "    </tr>\n",
       "    <tr>\n",
       "      <th>44</th>\n",
       "      <td>80.495494</td>\n",
       "      <td>100.0</td>\n",
       "      <td>55:41:56</td>\n",
       "    </tr>\n",
       "    <tr>\n",
       "      <th>59</th>\n",
       "      <td>85.694397</td>\n",
       "      <td>100.0</td>\n",
       "      <td>50:09:44</td>\n",
       "    </tr>\n",
       "    <tr>\n",
       "      <th>61</th>\n",
       "      <td>100.000000</td>\n",
       "      <td>100.0</td>\n",
       "      <td>47:26:10</td>\n",
       "    </tr>\n",
       "    <tr>\n",
       "      <th>75</th>\n",
       "      <td>81.139179</td>\n",
       "      <td>100.0</td>\n",
       "      <td>50:28:37</td>\n",
       "    </tr>\n",
       "    <tr>\n",
       "      <th>87</th>\n",
       "      <td>81.662786</td>\n",
       "      <td>100.0</td>\n",
       "      <td>69:59:05</td>\n",
       "    </tr>\n",
       "    <tr>\n",
       "      <th>89</th>\n",
       "      <td>90.111428</td>\n",
       "      <td>100.0</td>\n",
       "      <td>53:24:36</td>\n",
       "    </tr>\n",
       "    <tr>\n",
       "      <th>97</th>\n",
       "      <td>87.265962</td>\n",
       "      <td>100.0</td>\n",
       "      <td>52:38:30</td>\n",
       "    </tr>\n",
       "    <tr>\n",
       "      <th>101</th>\n",
       "      <td>78.067058</td>\n",
       "      <td>100.0</td>\n",
       "      <td>69:59:05</td>\n",
       "    </tr>\n",
       "    <tr>\n",
       "      <th>108</th>\n",
       "      <td>91.624320</td>\n",
       "      <td>100.0</td>\n",
       "      <td>50:09:44</td>\n",
       "    </tr>\n",
       "    <tr>\n",
       "      <th>141</th>\n",
       "      <td>91.504877</td>\n",
       "      <td>100.0</td>\n",
       "      <td>47:26:10</td>\n",
       "    </tr>\n",
       "    <tr>\n",
       "      <th>152</th>\n",
       "      <td>69.416928</td>\n",
       "      <td>100.0</td>\n",
       "      <td>50:28:37</td>\n",
       "    </tr>\n",
       "    <tr>\n",
       "      <th>209</th>\n",
       "      <td>88.580233</td>\n",
       "      <td>100.0</td>\n",
       "      <td>96:09:33</td>\n",
       "    </tr>\n",
       "    <tr>\n",
       "      <th>227</th>\n",
       "      <td>87.751378</td>\n",
       "      <td>100.0</td>\n",
       "      <td>55:41:56</td>\n",
       "    </tr>\n",
       "    <tr>\n",
       "      <th>231</th>\n",
       "      <td>82.717529</td>\n",
       "      <td>100.0</td>\n",
       "      <td>69:59:05</td>\n",
       "    </tr>\n",
       "    <tr>\n",
       "      <th>249</th>\n",
       "      <td>100.000000</td>\n",
       "      <td>100.0</td>\n",
       "      <td>53:24:36</td>\n",
       "    </tr>\n",
       "    <tr>\n",
       "      <th>254</th>\n",
       "      <td>85.210936</td>\n",
       "      <td>100.0</td>\n",
       "      <td>52:38:30</td>\n",
       "    </tr>\n",
       "    <tr>\n",
       "      <th>264</th>\n",
       "      <td>91.103011</td>\n",
       "      <td>100.0</td>\n",
       "      <td>53:24:36</td>\n",
       "    </tr>\n",
       "    <tr>\n",
       "      <th>271</th>\n",
       "      <td>90.575046</td>\n",
       "      <td>100.0</td>\n",
       "      <td>55:41:56</td>\n",
       "    </tr>\n",
       "    <tr>\n",
       "      <th>299</th>\n",
       "      <td>91.053901</td>\n",
       "      <td>100.0</td>\n",
       "      <td>96:09:33</td>\n",
       "    </tr>\n",
       "    <tr>\n",
       "      <th>301</th>\n",
       "      <td>96.444484</td>\n",
       "      <td>100.0</td>\n",
       "      <td>55:41:56</td>\n",
       "    </tr>\n",
       "    <tr>\n",
       "      <th>323</th>\n",
       "      <td>100.000000</td>\n",
       "      <td>100.0</td>\n",
       "      <td>96:09:33</td>\n",
       "    </tr>\n",
       "    <tr>\n",
       "      <th>334</th>\n",
       "      <td>94.065502</td>\n",
       "      <td>100.0</td>\n",
       "      <td>96:09:33</td>\n",
       "    </tr>\n",
       "    <tr>\n",
       "      <th>356</th>\n",
       "      <td>69.972914</td>\n",
       "      <td>100.0</td>\n",
       "      <td>50:28:37</td>\n",
       "    </tr>\n",
       "    <tr>\n",
       "      <th>383</th>\n",
       "      <td>86.519050</td>\n",
       "      <td>100.0</td>\n",
       "      <td>52:38:30</td>\n",
       "    </tr>\n",
       "    <tr>\n",
       "      <th>388</th>\n",
       "      <td>91.852975</td>\n",
       "      <td>100.0</td>\n",
       "      <td>96:09:33</td>\n",
       "    </tr>\n",
       "    <tr>\n",
       "      <th>407</th>\n",
       "      <td>72.988472</td>\n",
       "      <td>100.0</td>\n",
       "      <td>50:28:37</td>\n",
       "    </tr>\n",
       "    <tr>\n",
       "      <th>413</th>\n",
       "      <td>74.175707</td>\n",
       "      <td>100.0</td>\n",
       "      <td>55:41:56</td>\n",
       "    </tr>\n",
       "    <tr>\n",
       "      <th>423</th>\n",
       "      <td>80.522071</td>\n",
       "      <td>100.0</td>\n",
       "      <td>47:26:10</td>\n",
       "    </tr>\n",
       "    <tr>\n",
       "      <th>445</th>\n",
       "      <td>89.149788</td>\n",
       "      <td>100.0</td>\n",
       "      <td>53:24:36</td>\n",
       "    </tr>\n",
       "    <tr>\n",
       "      <th>457</th>\n",
       "      <td>99.604166</td>\n",
       "      <td>100.0</td>\n",
       "      <td>53:24:36</td>\n",
       "    </tr>\n",
       "    <tr>\n",
       "      <th>462</th>\n",
       "      <td>75.372223</td>\n",
       "      <td>100.0</td>\n",
       "      <td>69:59:05</td>\n",
       "    </tr>\n",
       "    <tr>\n",
       "      <th>477</th>\n",
       "      <td>96.448304</td>\n",
       "      <td>100.0</td>\n",
       "      <td>52:38:30</td>\n",
       "    </tr>\n",
       "    <tr>\n",
       "      <th>481</th>\n",
       "      <td>80.087006</td>\n",
       "      <td>100.0</td>\n",
       "      <td>55:41:56</td>\n",
       "    </tr>\n",
       "    <tr>\n",
       "      <th>506</th>\n",
       "      <td>91.944993</td>\n",
       "      <td>100.0</td>\n",
       "      <td>47:26:10</td>\n",
       "    </tr>\n",
       "    <tr>\n",
       "      <th>514</th>\n",
       "      <td>88.300940</td>\n",
       "      <td>100.0</td>\n",
       "      <td>47:26:10</td>\n",
       "    </tr>\n",
       "    <tr>\n",
       "      <th>530</th>\n",
       "      <td>100.000000</td>\n",
       "      <td>100.0</td>\n",
       "      <td>47:26:10</td>\n",
       "    </tr>\n",
       "  </tbody>\n",
       "</table>\n",
       "</div>"
      ],
      "text/plain": [
       "          lab01  lab01 - Max Points lab01 - Lateness (H:M:S)\n",
       "20    98.783373               100.0                 96:09:33\n",
       "33    72.943608               100.0                 55:41:56\n",
       "34   100.000000               100.0                 50:09:44\n",
       "44    80.495494               100.0                 55:41:56\n",
       "59    85.694397               100.0                 50:09:44\n",
       "61   100.000000               100.0                 47:26:10\n",
       "75    81.139179               100.0                 50:28:37\n",
       "87    81.662786               100.0                 69:59:05\n",
       "89    90.111428               100.0                 53:24:36\n",
       "97    87.265962               100.0                 52:38:30\n",
       "101   78.067058               100.0                 69:59:05\n",
       "108   91.624320               100.0                 50:09:44\n",
       "141   91.504877               100.0                 47:26:10\n",
       "152   69.416928               100.0                 50:28:37\n",
       "209   88.580233               100.0                 96:09:33\n",
       "227   87.751378               100.0                 55:41:56\n",
       "231   82.717529               100.0                 69:59:05\n",
       "249  100.000000               100.0                 53:24:36\n",
       "254   85.210936               100.0                 52:38:30\n",
       "264   91.103011               100.0                 53:24:36\n",
       "271   90.575046               100.0                 55:41:56\n",
       "299   91.053901               100.0                 96:09:33\n",
       "301   96.444484               100.0                 55:41:56\n",
       "323  100.000000               100.0                 96:09:33\n",
       "334   94.065502               100.0                 96:09:33\n",
       "356   69.972914               100.0                 50:28:37\n",
       "383   86.519050               100.0                 52:38:30\n",
       "388   91.852975               100.0                 96:09:33\n",
       "407   72.988472               100.0                 50:28:37\n",
       "413   74.175707               100.0                 55:41:56\n",
       "423   80.522071               100.0                 47:26:10\n",
       "445   89.149788               100.0                 53:24:36\n",
       "457   99.604166               100.0                 53:24:36\n",
       "462   75.372223               100.0                 69:59:05\n",
       "477   96.448304               100.0                 52:38:30\n",
       "481   80.087006               100.0                 55:41:56\n",
       "506   91.944993               100.0                 47:26:10\n",
       "514   88.300940               100.0                 47:26:10\n",
       "530  100.000000               100.0                 47:26:10"
      ]
     },
     "execution_count": 73,
     "metadata": {},
     "output_type": "execute_result"
    }
   ],
   "source": [
    "cur_df = pd.DataFrame(grades, columns = grades.columns[grades.columns.str.contains('lab01')])\n",
    "cur_df = cur_df[cur_df['lab01' + ' - Lateness (H:M:S)'] != '00:00:00']\n",
    "cur_df = cur_df[cur_df['lab01' + ' - Lateness (H:M:S)'].str.slice(0, 1) != '0']\n",
    "cur_df"
   ]
  },
  {
   "cell_type": "markdown",
   "metadata": {},
   "source": [
    "**Question 4**\n",
    "\n",
    "Now you need to adjust the lab grades for late submissions -- however, you need to take into account your investigation in the previous question, since students shouldn't be penalized by a bug in Gradescope!\n",
    "\n",
    "Create a function `lateness_penalty` that takes in a 'Lateness' column and returns a column of penalties (represented by the values `1.0,0.9,0.7,0.4` according to the syllabus). Only *truly* late submissions should be counted as late.\n",
    "\n",
    "*Note*: For the purpose of this project, we will only be calculating lateness for labs. There is no penalty for lateness for projects, discussions, nor checkpoints."
   ]
  },
  {
   "cell_type": "code",
   "execution_count": 82,
   "metadata": {},
   "outputs": [
    {
     "data": {
      "text/plain": [
       "96"
      ]
     },
     "execution_count": 82,
     "metadata": {},
     "output_type": "execute_result"
    }
   ],
   "source": [
    "col = grades['lab01 - Lateness (H:M:S)']\n",
    "int(cur_df['lab01 - Lateness (H:M:S)'].get(20).split(':')[0])"
   ]
  },
  {
   "cell_type": "code",
   "execution_count": 84,
   "metadata": {},
   "outputs": [
    {
     "data": {
      "text/plain": [
       "20     0.9\n",
       "33     0.9\n",
       "34     0.9\n",
       "44     0.9\n",
       "59     0.9\n",
       "61     0.9\n",
       "75     0.9\n",
       "87     0.9\n",
       "89     0.9\n",
       "97     0.9\n",
       "101    0.9\n",
       "108    0.9\n",
       "141    0.9\n",
       "152    0.9\n",
       "209    0.9\n",
       "227    0.9\n",
       "231    0.9\n",
       "249    0.9\n",
       "254    0.9\n",
       "264    0.9\n",
       "271    0.9\n",
       "299    0.9\n",
       "301    0.9\n",
       "323    0.9\n",
       "334    0.9\n",
       "356    0.9\n",
       "383    0.9\n",
       "388    0.9\n",
       "407    0.9\n",
       "413    0.9\n",
       "423    0.9\n",
       "445    0.9\n",
       "457    0.9\n",
       "462    0.9\n",
       "477    0.9\n",
       "481    0.9\n",
       "506    0.9\n",
       "514    0.9\n",
       "530    0.9\n",
       "Name: lab01 - Lateness (H:M:S), dtype: float64"
      ]
     },
     "execution_count": 84,
     "metadata": {},
     "output_type": "execute_result"
    }
   ],
   "source": [
    "ans = proj.lateness_penalty(col)\n",
    "ans[ans < 1.0]"
   ]
  },
  {
   "cell_type": "markdown",
   "metadata": {},
   "source": [
    "**Question 5**\n",
    "\n",
    "Create a function `process_labs` that takes in a dataframe like `grades` and returns a dataframe of processed lab scores. The output should:\n",
    "* share the same index as `grades`,\n",
    "* have columns given by the lab assignment names (e.g. `lab01,...lab10`)\n",
    "* have values representing the lab grades for each assignment, adjusted for Lateness and scaled to a score between 0 and 1."
   ]
  },
  {
   "cell_type": "code",
   "execution_count": 6,
   "metadata": {},
   "outputs": [
    {
     "data": {
      "text/plain": [
       "['lab01',\n",
       " 'lab02',\n",
       " 'lab03',\n",
       " 'lab04',\n",
       " 'lab05',\n",
       " 'lab06',\n",
       " 'lab07',\n",
       " 'lab08',\n",
       " 'lab09']"
      ]
     },
     "execution_count": 6,
     "metadata": {},
     "output_type": "execute_result"
    }
   ],
   "source": [
    "proj.get_assignment_names(grades)['lab']"
   ]
  },
  {
   "cell_type": "code",
   "execution_count": 17,
   "metadata": {},
   "outputs": [
    {
     "data": {
      "text/html": [
       "<div>\n",
       "<style scoped>\n",
       "    .dataframe tbody tr th:only-of-type {\n",
       "        vertical-align: middle;\n",
       "    }\n",
       "\n",
       "    .dataframe tbody tr th {\n",
       "        vertical-align: top;\n",
       "    }\n",
       "\n",
       "    .dataframe thead th {\n",
       "        text-align: right;\n",
       "    }\n",
       "</style>\n",
       "<table border=\"1\" class=\"dataframe\">\n",
       "  <thead>\n",
       "    <tr style=\"text-align: right;\">\n",
       "      <th></th>\n",
       "      <th>lab01</th>\n",
       "      <th>lab02</th>\n",
       "      <th>lab03</th>\n",
       "      <th>lab04</th>\n",
       "      <th>lab05</th>\n",
       "      <th>lab06</th>\n",
       "      <th>lab07</th>\n",
       "      <th>lab08</th>\n",
       "      <th>lab09</th>\n",
       "    </tr>\n",
       "  </thead>\n",
       "  <tbody>\n",
       "    <tr>\n",
       "      <th>0</th>\n",
       "      <td>0.997353</td>\n",
       "      <td>0.849902</td>\n",
       "      <td>0.637744</td>\n",
       "      <td>1.000000</td>\n",
       "      <td>1.000000</td>\n",
       "      <td>0.994518</td>\n",
       "      <td>0.389141</td>\n",
       "      <td>0.887917</td>\n",
       "      <td>0.874913</td>\n",
       "    </tr>\n",
       "    <tr>\n",
       "      <th>1</th>\n",
       "      <td>0.988295</td>\n",
       "      <td>0.507842</td>\n",
       "      <td>0.714477</td>\n",
       "      <td>0.783672</td>\n",
       "      <td>1.000000</td>\n",
       "      <td>0.393887</td>\n",
       "      <td>0.914061</td>\n",
       "      <td>0.944378</td>\n",
       "      <td>0.902977</td>\n",
       "    </tr>\n",
       "    <tr>\n",
       "      <th>2</th>\n",
       "      <td>0.865134</td>\n",
       "      <td>0.478028</td>\n",
       "      <td>0.433667</td>\n",
       "      <td>0.738875</td>\n",
       "      <td>0.927838</td>\n",
       "      <td>0.345076</td>\n",
       "      <td>0.734070</td>\n",
       "      <td>0.718204</td>\n",
       "      <td>0.757840</td>\n",
       "    </tr>\n",
       "    <tr>\n",
       "      <th>3</th>\n",
       "      <td>1.000000</td>\n",
       "      <td>1.000000</td>\n",
       "      <td>0.925903</td>\n",
       "      <td>0.950614</td>\n",
       "      <td>0.891614</td>\n",
       "      <td>0.688403</td>\n",
       "      <td>0.985371</td>\n",
       "      <td>0.963307</td>\n",
       "      <td>0.777880</td>\n",
       "    </tr>\n",
       "    <tr>\n",
       "      <th>4</th>\n",
       "      <td>0.665070</td>\n",
       "      <td>0.334224</td>\n",
       "      <td>0.706932</td>\n",
       "      <td>0.747915</td>\n",
       "      <td>0.659720</td>\n",
       "      <td>0.731345</td>\n",
       "      <td>0.607859</td>\n",
       "      <td>0.370186</td>\n",
       "      <td>1.000000</td>\n",
       "    </tr>\n",
       "    <tr>\n",
       "      <th>...</th>\n",
       "      <td>...</td>\n",
       "      <td>...</td>\n",
       "      <td>...</td>\n",
       "      <td>...</td>\n",
       "      <td>...</td>\n",
       "      <td>...</td>\n",
       "      <td>...</td>\n",
       "      <td>...</td>\n",
       "      <td>...</td>\n",
       "    </tr>\n",
       "    <tr>\n",
       "      <th>530</th>\n",
       "      <td>0.900000</td>\n",
       "      <td>0.820228</td>\n",
       "      <td>1.000000</td>\n",
       "      <td>0.792935</td>\n",
       "      <td>1.000000</td>\n",
       "      <td>0.284106</td>\n",
       "      <td>0.770281</td>\n",
       "      <td>0.931245</td>\n",
       "      <td>1.000000</td>\n",
       "    </tr>\n",
       "    <tr>\n",
       "      <th>531</th>\n",
       "      <td>1.000000</td>\n",
       "      <td>0.874981</td>\n",
       "      <td>0.809945</td>\n",
       "      <td>0.592866</td>\n",
       "      <td>0.987597</td>\n",
       "      <td>0.759688</td>\n",
       "      <td>0.856178</td>\n",
       "      <td>0.849694</td>\n",
       "      <td>0.582645</td>\n",
       "    </tr>\n",
       "    <tr>\n",
       "      <th>532</th>\n",
       "      <td>0.886566</td>\n",
       "      <td>0.903260</td>\n",
       "      <td>1.000000</td>\n",
       "      <td>1.000000</td>\n",
       "      <td>0.941425</td>\n",
       "      <td>0.768909</td>\n",
       "      <td>0.967282</td>\n",
       "      <td>0.877898</td>\n",
       "      <td>1.000000</td>\n",
       "    </tr>\n",
       "    <tr>\n",
       "      <th>533</th>\n",
       "      <td>0.837997</td>\n",
       "      <td>0.856369</td>\n",
       "      <td>0.909363</td>\n",
       "      <td>0.955287</td>\n",
       "      <td>0.737854</td>\n",
       "      <td>0.382781</td>\n",
       "      <td>0.769093</td>\n",
       "      <td>0.947450</td>\n",
       "      <td>0.867373</td>\n",
       "    </tr>\n",
       "    <tr>\n",
       "      <th>534</th>\n",
       "      <td>0.883893</td>\n",
       "      <td>0.730452</td>\n",
       "      <td>0.944795</td>\n",
       "      <td>0.819100</td>\n",
       "      <td>0.890968</td>\n",
       "      <td>0.858277</td>\n",
       "      <td>0.989410</td>\n",
       "      <td>0.807974</td>\n",
       "      <td>0.663745</td>\n",
       "    </tr>\n",
       "  </tbody>\n",
       "</table>\n",
       "<p>535 rows × 9 columns</p>\n",
       "</div>"
      ],
      "text/plain": [
       "        lab01     lab02     lab03     lab04     lab05     lab06     lab07  \\\n",
       "0    0.997353  0.849902  0.637744  1.000000  1.000000  0.994518  0.389141   \n",
       "1    0.988295  0.507842  0.714477  0.783672  1.000000  0.393887  0.914061   \n",
       "2    0.865134  0.478028  0.433667  0.738875  0.927838  0.345076  0.734070   \n",
       "3    1.000000  1.000000  0.925903  0.950614  0.891614  0.688403  0.985371   \n",
       "4    0.665070  0.334224  0.706932  0.747915  0.659720  0.731345  0.607859   \n",
       "..        ...       ...       ...       ...       ...       ...       ...   \n",
       "530  0.900000  0.820228  1.000000  0.792935  1.000000  0.284106  0.770281   \n",
       "531  1.000000  0.874981  0.809945  0.592866  0.987597  0.759688  0.856178   \n",
       "532  0.886566  0.903260  1.000000  1.000000  0.941425  0.768909  0.967282   \n",
       "533  0.837997  0.856369  0.909363  0.955287  0.737854  0.382781  0.769093   \n",
       "534  0.883893  0.730452  0.944795  0.819100  0.890968  0.858277  0.989410   \n",
       "\n",
       "        lab08     lab09  \n",
       "0    0.887917  0.874913  \n",
       "1    0.944378  0.902977  \n",
       "2    0.718204  0.757840  \n",
       "3    0.963307  0.777880  \n",
       "4    0.370186  1.000000  \n",
       "..        ...       ...  \n",
       "530  0.931245  1.000000  \n",
       "531  0.849694  0.582645  \n",
       "532  0.877898  1.000000  \n",
       "533  0.947450  0.867373  \n",
       "534  0.807974  0.663745  \n",
       "\n",
       "[535 rows x 9 columns]"
      ]
     },
     "execution_count": 17,
     "metadata": {},
     "output_type": "execute_result"
    }
   ],
   "source": [
    "ans = proj.process_labs(grades)\n",
    "ans"
   ]
  },
  {
   "cell_type": "code",
   "execution_count": 19,
   "metadata": {},
   "outputs": [
    {
     "data": {
      "text/plain": [
       "0      0.847943\n",
       "1      0.794399\n",
       "2      0.666526\n",
       "3      0.909232\n",
       "4      0.647028\n",
       "         ...   \n",
       "530    0.833199\n",
       "531    0.812622\n",
       "532    0.927260\n",
       "533    0.807063\n",
       "534    0.843179\n",
       "Length: 535, dtype: float64"
      ]
     },
     "execution_count": 19,
     "metadata": {},
     "output_type": "execute_result"
    }
   ],
   "source": [
    "ans.fillna(0).mean(axis = 1)"
   ]
  },
  {
   "cell_type": "markdown",
   "metadata": {},
   "source": [
    "**Question 6**\n",
    "\n",
    "Create a function `lab_total` that takes in dataframe of processed assignments (like the output of Question 5) and computes the total lab grade for each student according to the syllabus (returning a Series). Your answers should be proportions between 0 and 1. For example, if there are only 3 labs, and a student received scores of {80%,90%,100%}, then the total score would be 0.95.\n",
    "\n",
    "*Note*: Don't forget to properly handle students who didn't turn in assignments! (Use your experience and common sense)."
   ]
  },
  {
   "cell_type": "code",
   "execution_count": 36,
   "metadata": {},
   "outputs": [
    {
     "data": {
      "text/plain": [
       "0      0.905293\n",
       "1      0.844463\n",
       "2      0.706707\n",
       "3      0.936836\n",
       "4      0.686128\n",
       "         ...   \n",
       "530    0.901836\n",
       "531    0.841369\n",
       "532    0.947054\n",
       "533    0.860098\n",
       "534    0.865609\n",
       "Length: 535, dtype: float64"
      ]
     },
     "execution_count": 36,
     "metadata": {},
     "output_type": "execute_result"
    }
   ],
   "source": [
    "cols = 'lab01 lab02 lab03'.split()\n",
    "processed = pd.DataFrame([[0.2, 0.90, 1.0]], index=[0], columns=cols)\n",
    "#np.isclose(proj.lab_total(processed), 0.95).all()\n",
    "proj.lab_total(ans)"
   ]
  },
  {
   "cell_type": "code",
   "execution_count": 32,
   "metadata": {},
   "outputs": [
    {
     "data": {
      "text/plain": [
       "0      0.905293\n",
       "1      0.844463\n",
       "2      0.706707\n",
       "3      0.936836\n",
       "4      0.686128\n",
       "         ...   \n",
       "530    0.901836\n",
       "531    0.841369\n",
       "532    0.947054\n",
       "533    0.860098\n",
       "534    0.865609\n",
       "Length: 535, dtype: float64"
      ]
     },
     "execution_count": 32,
     "metadata": {},
     "output_type": "execute_result"
    }
   ],
   "source": [
    "pd.Series(np.mean(np.sort(ans.values, axis = 1)[:, 1:], axis = 1))"
   ]
  },
  {
   "cell_type": "code",
   "execution_count": null,
   "metadata": {},
   "outputs": [],
   "source": []
  },
  {
   "cell_type": "markdown",
   "metadata": {},
   "source": [
    "### Putting it together\n",
    "\n",
    "**Question 7**\n",
    "\n",
    "Finally, you need to create the final course grades. To do this, you will add up the total of each course component according to the weights given in the syllabus. \n",
    "\n",
    "* Create a function `total_points` that takes in `grades` and returns the final course grades according to the syllabus. Course grades should be proportions between zero and one.\n",
    "* Create a function `final_grades` that takes in the final course grades as above and returns a Series of letter grades given by the standard cutoffs (`A >= .90`, `.90 > B >= .80`, `.80 > C >= .70`, `.70 > D >= .60`, `.60 > F`). You should not use rounding to determining the letter grades.\n",
    "* Create a function `letter_proportions` which takes in the dataframe `grades` and outputs a Series that contains the proportion of the class that received each grade. (This question requires you to put everything together).\n",
    "* The indices should be ordered by the proportion of the class that receives that grade, from largest to smallest.\n",
    "\n",
    "*Note 1*: Don't repeat yourself when computing the checkpoint and discussion portions of the course.\n",
    "\n",
    "*Note 2*: Only the lab portion of the course accounts for late assignments; you may assume all assignments in other portions are turned in without penalty.\n",
    "\n",
    "*Note 3*: These values should add up to exactly 1.0. If you are getting something close such as 0.99999, that means there is a slight issue with your code from above. \n",
    "\n",
    "To check your work, verify the course grade distribution and relevant statistics! Do the work by hand for a few students."
   ]
  },
  {
   "cell_type": "code",
   "execution_count": 56,
   "metadata": {
    "scrolled": true
   },
   "outputs": [
    {
     "data": {
      "text/plain": [
       "0      0.902465\n",
       "1      0.816654\n",
       "2      0.759665\n",
       "3      0.908073\n",
       "4      0.675083\n",
       "         ...   \n",
       "530    0.865660\n",
       "531    0.764832\n",
       "532    0.859648\n",
       "533    0.866322\n",
       "534    0.894719\n",
       "Length: 535, dtype: float64"
      ]
     },
     "execution_count": 56,
     "metadata": {},
     "output_type": "execute_result"
    }
   ],
   "source": [
    "out = proj.total_points(grades)\n",
    "out"
   ]
  },
  {
   "cell_type": "code",
   "execution_count": 59,
   "metadata": {
    "scrolled": true
   },
   "outputs": [],
   "source": [
    "lett = proj.final_grades(out)"
   ]
  },
  {
   "cell_type": "code",
   "execution_count": 63,
   "metadata": {},
   "outputs": [
    {
     "data": {
      "text/plain": [
       "B    0.506542\n",
       "C    0.218692\n",
       "A    0.207477\n",
       "D    0.037383\n",
       "F    0.029907\n",
       "dtype: float64"
      ]
     },
     "execution_count": 63,
     "metadata": {},
     "output_type": "execute_result"
    }
   ],
   "source": [
    "ans = lett.value_counts() / len(lett)"
   ]
  },
  {
   "cell_type": "markdown",
   "metadata": {},
   "source": [
    "### Do Seniors get worse grades?\n",
    "\n",
    "**Question 8**\n",
    "\n",
    "You notice that students who are seniors on average did worse in the class (if you can't verify this, you should go back and check your work!). Is this difference significant, or just due to noise?\n",
    "\n",
    "Perform a hypothesis test, assessing the likelihood of the above statement under the null hypothesis: \n",
    "> \"seniors earn grades that are roughly equal on average to the rest of the class.\"\n",
    "\n",
    "\n",
    "Create a function `simulate_pval` which takes in the number of simulations `N` and `grades` and returns the the likelihood that the grade of seniors was worse than the average of the class as a whole under the null hypothesis(i.e. calculate the p-value).\n",
    "\n",
    "*Note:* To check your work, plot the sampling distribution and the observation. Do these values look reasonable?"
   ]
  },
  {
   "cell_type": "code",
   "execution_count": null,
   "metadata": {},
   "outputs": [],
   "source": []
  },
  {
   "cell_type": "code",
   "execution_count": null,
   "metadata": {},
   "outputs": [],
   "source": []
  },
  {
   "cell_type": "markdown",
   "metadata": {},
   "source": [
    "### What is the true distribution of grades?\n",
    "\n",
    "The gradebook for this class only reflects one particular instance of each student's performance, subject to the effects of all the little events and hiccups that occurred throughout the quarter. Might you have done better on the midterm had your roommate kept you up all night with their coughing? Wasn't it lucky that the example you were studying just before the final happened to appear on the exam?\n",
    "\n",
    "**Question 9**\n",
    "\n",
    "This question will simulate these '(un)lucky, random events' by adding or subtracting random amounts to each assignment before calculating the final grades. These 'random amounts' will be drawn from a Gaussian distribution of mean 0 and a std deviation 0.02:\n",
    "```\n",
    "np.random.normal(0, 0.02, size=(num_rows, num_cols))\n",
    "```\n",
    "Intuitively, such a model says that random events may bump up or down a given grade (given as a proportion):\n",
    "- which on average has no effect on the class as a whole (mean 0),\n",
    "- which not uncommonly might perturb a grade by 2% (std dev 0.02).\n",
    "\n",
    "Create a function `total_points_with_noise` that takes in a dataframe like `grades`, adds noise to the assignments as described above, and returns the final scores using *the same procedure* as questions 1-7.\n",
    "\n",
    "*Note:* You should be able to reuse (or minorly change) the code from previous problems. Try to be DRY (don't repeat yourself)!\n",
    "\n",
    "*Note 1:* Once adding the noise to the assignment scores, use the `np.clip` function to be sure each assignment retains a score between 0% and 100%.\n",
    "\n",
    "*Note 2:* To check your work -- what would you expect the difference between the actual scores and noisy scores to be, on average?"
   ]
  },
  {
   "cell_type": "code",
   "execution_count": null,
   "metadata": {},
   "outputs": [],
   "source": []
  },
  {
   "cell_type": "code",
   "execution_count": null,
   "metadata": {},
   "outputs": [],
   "source": []
  },
  {
   "cell_type": "markdown",
   "metadata": {},
   "source": [
    "### Short-answer questions (hard-coded)\n",
    "\n",
    "Use your functions from above to understanding the data and answer the following questions. The function below should return **hard-coded values**. It should not compute anything!\n",
    "\n",
    "**Question 10**\n",
    "\n",
    "Create a function `short_answer` of zero variables that returns (hard-coded) answers to the following question in a list:\n",
    "0. For the class on average, what is the difference between students' scores (`total_points`) and their scores with noise (`total_points_with_noise`)? (Remark: plot the distribution of differences; does this align with what you know about binomial distributions?)\n",
    "1. What percentage of the class only sees their grade change at most (but not including) $\\pm 0.01$?\n",
    "2. What is the 95% confidence interval for the statistic above? (see [DSC10](https://www.inferentialthinking.com/chapters/13/3/Confidence_Intervals.html) and use `np.percentile`)\n",
    "3. What proportion of the class sees a change in their letter grade?\n",
    "4. The assumption behind the model in Question 9 is that:\n",
    "    - The (observed) gradebook well represents the true population of students,\n",
    "    - The noisy scores does not represent other possible observations drawn from the true population of students.\n",
    "    - Answer `True` or `False` in a list like `[True, True]`"
   ]
  },
  {
   "cell_type": "code",
   "execution_count": null,
   "metadata": {},
   "outputs": [],
   "source": []
  },
  {
   "cell_type": "code",
   "execution_count": null,
   "metadata": {},
   "outputs": [],
   "source": []
  },
  {
   "cell_type": "code",
   "execution_count": null,
   "metadata": {},
   "outputs": [],
   "source": []
  },
  {
   "cell_type": "markdown",
   "metadata": {},
   "source": [
    "# Congratulations, you finished the project!\n",
    "\n",
    "### Before you submit:\n",
    "* Be sure you run the doctests on all your code in project01.py\n",
    "\n",
    "### To submit:\n",
    "* **Upload the .py file to gradescope**"
   ]
  }
 ],
 "metadata": {
  "kernelspec": {
   "display_name": "Python 3",
   "language": "python",
   "name": "python3"
  },
  "language_info": {
   "codemirror_mode": {
    "name": "ipython",
    "version": 3
   },
   "file_extension": ".py",
   "mimetype": "text/x-python",
   "name": "python",
   "nbconvert_exporter": "python",
   "pygments_lexer": "ipython3",
   "version": "3.8.3"
  }
 },
 "nbformat": 4,
 "nbformat_minor": 2
}
