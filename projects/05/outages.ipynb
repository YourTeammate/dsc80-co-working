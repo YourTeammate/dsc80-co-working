{
 "cells": [
  {
   "cell_type": "markdown",
   "metadata": {},
   "source": [
    "# Power Outages\n",
    "* **See the main project notebook for instructions to be sure you satisfy the rubric!**\n",
    "* See Project 03 for information on the dataset.\n",
    "* A few example prediction questions to pursue are listed below. However, don't limit yourself to them!\n",
    "    * Predict the severity (number of customers, duration, or demand loss) of a major power outage.\n",
    "    * Predict the cause of a major power outage.\n",
    "    * Predict the number and/or severity of major power outages in the year 2020.\n",
    "    * Predict the electricity consumption of an area.\n",
    "\n",
    "Be careful to justify what information you would know at the \"time of prediction\" and train your model using only those features."
   ]
  },
  {
   "cell_type": "markdown",
   "metadata": {},
   "source": [
    "# Summary of Findings\n",
    "\n",
    "\n",
    "### Introduction\n",
    "In this project, we will look at the major power outage data in the continental U.S. from January 2000 to July 2016. After data cleaning, the dataset has 1534 observations (each occurence of outage), and 56 columns (location, cause, influential factors, time-stamp, aftermath of the outage etc.)\n",
    "\n",
    "The classification problem is that we want to predict the **cause category** (target variable) for each major power outages given the year, the state, outage duration, population of the state, number of customers affected for each state (features). And we'll use **Recall** as our evaluation metric to examine our model, and make further improvements based on the value. The justification for this metric over others will be given in Baseline model section.\n",
    "\n",
    "### Baseline Model\n",
    "Our baseline model uses the Decision Tree Classifier, since the `CAUSE.CATEGORY` consists of 7 categories,and including 5 features: [`'YEAR'`, `'U.S._STATE'`, `'OUTAGE.DURATION'`, `'POPULATION'`, `'CUSTOMERS.AFFECTED'`]. Of which, `YEAR` column is ordinal, `U.S. STATE` is nominal, and remaining three columns are quantitative variables.\n",
    "\n",
    "The reason why we choose year as one of the features is that as time progresses, we guessed that cause category might also change correspondingly due to technological improvement. We chose state since the geography, demography, consumption varies among different states, which might have an effect on power outage. We chose outage duration, since the length of each outage can depend on the severity, which also closely linked to the cause category. The population is feasible since the population is a straight forward representation of the scale of the state, difference in population might also affect the cause. At last, if cause category belongs to a macro scale influence, naturally many customers will be affected, making customers affected another viable feature.\n",
    "\n",
    "In addition,choosing a good evaluation metric is quite challenging,since the `CAUSE.CATEGORY` has 7 causes for the outage, each with very diverse amount (using value_counts), it's relatively hard to calculate recall, specifity, precision, and etc., only if we repeat them for each category (it will be much easier to work with since they are for binarized-categorical variable like the tumor/no tumor, or terrorists/non-terrorists example). To tackle this problem, we first define a variable `categories` that includes all causes, and then assign it for the keyword argument `labels` for the confusion matrix. To better visualize True Positive, False Positive, False Negative and True Negative, we used multi-labeled confusion matrix that displays all seven categories respectively in a more visually straightforward 2x2 matrices. Parallel to our expectation, the multi-label confusion matrix has matching True Positives as values on the diagonal line of the ordinary confusion matrix. Since there are 7 categories, and they have unequal proportion, we value True Positives over all observations that are actually labeled positive the most (unlike tumor problem, True Negative doesn't give much information in this case, recall is most helpful),\n",
    "\n",
    "$$\n",
    "{\\rm Recall} =\\frac{TP}{P} =\\frac{TP}{TP + FN}\n",
    "$$\n",
    "\n",
    "which follows that we will use `Recall` as our evaluation metric. More specifically, we will take the mean of all 7 categories' `recall` as the evaluation metric using `recall_score`. However, our evaluation metric can be further improved since we consider the case where TP = 0 and TP + FN = 0 to get a recall of 0 (but if FN is non-zero, TP is 0, we also get 0, they don't mean the same thing since TP + FN = 0 suggests that there are no positive labels in the input data). \n",
    "\n",
    "After training our baseline model, it has a mean of 0.464 recall over all categories on testing dataset, which is quite decent considering we have 7 categories.\n",
    "\n",
    "### Final Model\n",
    "To achieve our final model, we attempted 2 feature engineering that would theoretically improve our evaluation metric. We first calculates the population density using:\n",
    "\n",
    "$$\n",
    "{\\rm Population\\ density} = \\frac {POPPCT\\_URBAN * POPDEN\\_URBAN + (1 - POPPCT\\_URBAN) * POPDEN\\_RURAL}{100} \n",
    "$$\n",
    "\n",
    "We think that it will be a very effective feature that could potentially increase our recall score, since population density can be an indicative measure for different causes. For example, major outages that occur within areas with higher population density might due to `system operability disruption`. The second is StandardScaler. It will transform our data such that its distribution will have a mean value 0 and standard deviation of 1. We applied this on other numeric columns. \n",
    "\n",
    "With these two additional features, we have increased our recall score to 0.593. Then, we performed Grid Search on this final pipeline to obtain the final model for our prediction. It gives that the best pipeline parameters are: {'dtc__max_depth': 5, 'dtc__min_samples_leaf': 2, 'dtc__min_samples_split': 17}.\n",
    "\n",
    "The model can be further improved if Grid Search is able to optimize parameters based on recall score rather than accuracy.\n",
    "\n",
    "### Fairness Evaluation\n",
    "To assess the fairness and bias of our model, we specifically chose the column `POPPCT_URBAN` to construct our X and Y subsets and hypothesized that the urban population percentage doesn't affect our recall scores.\n",
    "\n",
    "We will binarize our datasets into:\n",
    "\n",
    "`1`: which has `POPPCT_URBAN` higher than the median urban population percentage;\n",
    "\n",
    "`0`: which are lower than the median.\n",
    "\n",
    "Our test statistic would be the **absolute difference** between the **recall score** of these two subsets. \n",
    "\n",
    "***Null Hypothesis***: Urban population percentage, either higher or lower than its' median, doesn't have an effect on our recall score.(i.e. the difference between the recall scores between two subsets are due to chance)\n",
    "\n",
    "***Alternative Hypothesis***: The urban population percentage does influence our recall score on two subsets.\n",
    "\n",
    "After running 1000 permutation tests, we obtained a p-value of 0.598. Pick a significance level 0.05, this is much higher than the threshold. Hence, we failed to reject our null hypothesis. This is saying that, according to our test, the urban population percentage has limited or no influence on the recall score. We failed to observe any parity between high urban population percentage areas and low urban population percentage areas when predicting the outage categories. "
   ]
  },
  {
   "cell_type": "markdown",
   "metadata": {},
   "source": [
    "# Code"
   ]
  },
  {
   "cell_type": "markdown",
   "metadata": {},
   "source": [
    "We first import necessary packages."
   ]
  },
  {
   "cell_type": "code",
   "execution_count": 1,
   "metadata": {},
   "outputs": [],
   "source": [
    "import matplotlib.pyplot as plt\n",
    "import numpy as np\n",
    "import os\n",
    "import pandas as pd\n",
    "import seaborn as sns\n",
    "import datetime\n",
    "from IPython.display import display\n",
    "%matplotlib inline\n",
    "%config InlineBackend.figure_format = 'retina'  # Higher resolution figures"
   ]
  },
  {
   "cell_type": "code",
   "execution_count": 2,
   "metadata": {},
   "outputs": [],
   "source": [
    "from sklearn.pipeline import Pipeline\n",
    "from sklearn.linear_model import LinearRegression\n",
    "from sklearn.compose import ColumnTransformer\n",
    "from sklearn.preprocessing import FunctionTransformer\n",
    "from sklearn.model_selection import train_test_split\n",
    "from sklearn.preprocessing import OneHotEncoder\n",
    "from sklearn.decomposition import PCA\n",
    "from sklearn.model_selection import GridSearchCV\n",
    "from sklearn.tree import DecisionTreeClassifier\n",
    "from sklearn import metrics\n",
    "from sklearn import utils\n",
    "from sklearn.svm import SVC\n",
    "from sklearn.preprocessing import StandardScaler"
   ]
  },
  {
   "cell_type": "markdown",
   "metadata": {},
   "source": [
    "This section of the code processes and cleans the dataset."
   ]
  },
  {
   "cell_type": "code",
   "execution_count": 73,
   "metadata": {},
   "outputs": [],
   "source": [
    "pd.set_option('display.max_columns', 5)"
   ]
  },
  {
   "cell_type": "code",
   "execution_count": 74,
   "metadata": {},
   "outputs": [
    {
     "data": {
      "text/html": [
       "<div>\n",
       "<style scoped>\n",
       "    .dataframe tbody tr th:only-of-type {\n",
       "        vertical-align: middle;\n",
       "    }\n",
       "\n",
       "    .dataframe tbody tr th {\n",
       "        vertical-align: top;\n",
       "    }\n",
       "\n",
       "    .dataframe thead th {\n",
       "        text-align: right;\n",
       "    }\n",
       "</style>\n",
       "<table border=\"1\" class=\"dataframe\">\n",
       "  <thead>\n",
       "    <tr style=\"text-align: right;\">\n",
       "      <th></th>\n",
       "      <th>YEAR</th>\n",
       "      <th>MONTH</th>\n",
       "      <th>...</th>\n",
       "      <th>PCT_WATER_TOT</th>\n",
       "      <th>PCT_WATER_INLAND</th>\n",
       "    </tr>\n",
       "  </thead>\n",
       "  <tbody>\n",
       "    <tr>\n",
       "      <th>0</th>\n",
       "      <td>2011.0</td>\n",
       "      <td>7.0</td>\n",
       "      <td>...</td>\n",
       "      <td>8.40733</td>\n",
       "      <td>5.47874</td>\n",
       "    </tr>\n",
       "    <tr>\n",
       "      <th>1</th>\n",
       "      <td>2014.0</td>\n",
       "      <td>5.0</td>\n",
       "      <td>...</td>\n",
       "      <td>8.40733</td>\n",
       "      <td>5.47874</td>\n",
       "    </tr>\n",
       "    <tr>\n",
       "      <th>2</th>\n",
       "      <td>2010.0</td>\n",
       "      <td>10.0</td>\n",
       "      <td>...</td>\n",
       "      <td>8.40733</td>\n",
       "      <td>5.47874</td>\n",
       "    </tr>\n",
       "    <tr>\n",
       "      <th>3</th>\n",
       "      <td>2012.0</td>\n",
       "      <td>6.0</td>\n",
       "      <td>...</td>\n",
       "      <td>8.40733</td>\n",
       "      <td>5.47874</td>\n",
       "    </tr>\n",
       "    <tr>\n",
       "      <th>4</th>\n",
       "      <td>2015.0</td>\n",
       "      <td>7.0</td>\n",
       "      <td>...</td>\n",
       "      <td>8.40733</td>\n",
       "      <td>5.47874</td>\n",
       "    </tr>\n",
       "    <tr>\n",
       "      <th>...</th>\n",
       "      <td>...</td>\n",
       "      <td>...</td>\n",
       "      <td>...</td>\n",
       "      <td>...</td>\n",
       "      <td>...</td>\n",
       "    </tr>\n",
       "    <tr>\n",
       "      <th>1529</th>\n",
       "      <td>2011.0</td>\n",
       "      <td>12.0</td>\n",
       "      <td>...</td>\n",
       "      <td>2.40177</td>\n",
       "      <td>2.40177</td>\n",
       "    </tr>\n",
       "    <tr>\n",
       "      <th>1530</th>\n",
       "      <td>2006.0</td>\n",
       "      <td>NaN</td>\n",
       "      <td>...</td>\n",
       "      <td>2.40177</td>\n",
       "      <td>2.40177</td>\n",
       "    </tr>\n",
       "    <tr>\n",
       "      <th>1531</th>\n",
       "      <td>2009.0</td>\n",
       "      <td>8.0</td>\n",
       "      <td>...</td>\n",
       "      <td>1.69226</td>\n",
       "      <td>1.69226</td>\n",
       "    </tr>\n",
       "    <tr>\n",
       "      <th>1532</th>\n",
       "      <td>2009.0</td>\n",
       "      <td>8.0</td>\n",
       "      <td>...</td>\n",
       "      <td>1.69226</td>\n",
       "      <td>1.69226</td>\n",
       "    </tr>\n",
       "    <tr>\n",
       "      <th>1533</th>\n",
       "      <td>2000.0</td>\n",
       "      <td>NaN</td>\n",
       "      <td>...</td>\n",
       "      <td>14.2388</td>\n",
       "      <td>2.90118</td>\n",
       "    </tr>\n",
       "  </tbody>\n",
       "</table>\n",
       "<p>1534 rows × 55 columns</p>\n",
       "</div>"
      ],
      "text/plain": [
       "        YEAR  MONTH  ... PCT_WATER_TOT PCT_WATER_INLAND\n",
       "0     2011.0    7.0  ...       8.40733          5.47874\n",
       "1     2014.0    5.0  ...       8.40733          5.47874\n",
       "2     2010.0   10.0  ...       8.40733          5.47874\n",
       "3     2012.0    6.0  ...       8.40733          5.47874\n",
       "4     2015.0    7.0  ...       8.40733          5.47874\n",
       "...      ...    ...  ...           ...              ...\n",
       "1529  2011.0   12.0  ...       2.40177          2.40177\n",
       "1530  2006.0    NaN  ...       2.40177          2.40177\n",
       "1531  2009.0    8.0  ...       1.69226          1.69226\n",
       "1532  2009.0    8.0  ...       1.69226          1.69226\n",
       "1533  2000.0    NaN  ...       14.2388          2.90118\n",
       "\n",
       "[1534 rows x 55 columns]"
      ]
     },
     "execution_count": 74,
     "metadata": {},
     "output_type": "execute_result"
    }
   ],
   "source": [
    "df = pd.read_excel('outage.xlsx', skiprows = 5)\n",
    "df = df.drop(0).drop(['variables','OBS'], axis = 1).reset_index(drop=True)\n",
    "df"
   ]
  },
  {
   "cell_type": "code",
   "execution_count": 75,
   "metadata": {},
   "outputs": [],
   "source": [
    "start_time = pd.to_datetime(\n",
    "    df['OUTAGE.START.DATE'].dropna().astype(str).str.split(' ').str[0] \n",
    "    + ' ' \n",
    "    + df['OUTAGE.START.TIME'].dropna().astype(str)\n",
    ")\n",
    "\n",
    "restoration_time = pd.to_datetime(\n",
    "    df['OUTAGE.RESTORATION.DATE'].dropna().astype(str).str.split(' ').str[0] \n",
    "    + ' ' \n",
    "    + df['OUTAGE.RESTORATION.TIME'].dropna().astype(str)\n",
    ")"
   ]
  },
  {
   "cell_type": "code",
   "execution_count": 76,
   "metadata": {},
   "outputs": [
    {
     "data": {
      "text/html": [
       "<div>\n",
       "<style scoped>\n",
       "    .dataframe tbody tr th:only-of-type {\n",
       "        vertical-align: middle;\n",
       "    }\n",
       "\n",
       "    .dataframe tbody tr th {\n",
       "        vertical-align: top;\n",
       "    }\n",
       "\n",
       "    .dataframe thead th {\n",
       "        text-align: right;\n",
       "    }\n",
       "</style>\n",
       "<table border=\"1\" class=\"dataframe\">\n",
       "  <thead>\n",
       "    <tr style=\"text-align: right;\">\n",
       "      <th></th>\n",
       "      <th>YEAR</th>\n",
       "      <th>MONTH</th>\n",
       "      <th>...</th>\n",
       "      <th>OUTAGE.RESTORATION</th>\n",
       "      <th>OUTAGE.START</th>\n",
       "    </tr>\n",
       "  </thead>\n",
       "  <tbody>\n",
       "    <tr>\n",
       "      <th>0</th>\n",
       "      <td>2011.0</td>\n",
       "      <td>7.0</td>\n",
       "      <td>...</td>\n",
       "      <td>2011-07-03 20:00:00</td>\n",
       "      <td>2011-07-01 17:00:00</td>\n",
       "    </tr>\n",
       "    <tr>\n",
       "      <th>1</th>\n",
       "      <td>2014.0</td>\n",
       "      <td>5.0</td>\n",
       "      <td>...</td>\n",
       "      <td>2014-05-11 18:39:00</td>\n",
       "      <td>2014-05-11 18:38:00</td>\n",
       "    </tr>\n",
       "    <tr>\n",
       "      <th>2</th>\n",
       "      <td>2010.0</td>\n",
       "      <td>10.0</td>\n",
       "      <td>...</td>\n",
       "      <td>2010-10-28 22:00:00</td>\n",
       "      <td>2010-10-26 20:00:00</td>\n",
       "    </tr>\n",
       "    <tr>\n",
       "      <th>3</th>\n",
       "      <td>2012.0</td>\n",
       "      <td>6.0</td>\n",
       "      <td>...</td>\n",
       "      <td>2012-06-20 23:00:00</td>\n",
       "      <td>2012-06-19 04:30:00</td>\n",
       "    </tr>\n",
       "    <tr>\n",
       "      <th>4</th>\n",
       "      <td>2015.0</td>\n",
       "      <td>7.0</td>\n",
       "      <td>...</td>\n",
       "      <td>2015-07-19 07:00:00</td>\n",
       "      <td>2015-07-18 02:00:00</td>\n",
       "    </tr>\n",
       "    <tr>\n",
       "      <th>...</th>\n",
       "      <td>...</td>\n",
       "      <td>...</td>\n",
       "      <td>...</td>\n",
       "      <td>...</td>\n",
       "      <td>...</td>\n",
       "    </tr>\n",
       "    <tr>\n",
       "      <th>1529</th>\n",
       "      <td>2011.0</td>\n",
       "      <td>12.0</td>\n",
       "      <td>...</td>\n",
       "      <td>2011-12-06 20:00:00</td>\n",
       "      <td>2011-12-06 08:00:00</td>\n",
       "    </tr>\n",
       "    <tr>\n",
       "      <th>1530</th>\n",
       "      <td>2006.0</td>\n",
       "      <td>NaN</td>\n",
       "      <td>...</td>\n",
       "      <td>NaT</td>\n",
       "      <td>NaT</td>\n",
       "    </tr>\n",
       "    <tr>\n",
       "      <th>1531</th>\n",
       "      <td>2009.0</td>\n",
       "      <td>8.0</td>\n",
       "      <td>...</td>\n",
       "      <td>2009-08-29 23:53:00</td>\n",
       "      <td>2009-08-29 22:54:00</td>\n",
       "    </tr>\n",
       "    <tr>\n",
       "      <th>1532</th>\n",
       "      <td>2009.0</td>\n",
       "      <td>8.0</td>\n",
       "      <td>...</td>\n",
       "      <td>2009-08-29 14:01:00</td>\n",
       "      <td>2009-08-29 11:00:00</td>\n",
       "    </tr>\n",
       "    <tr>\n",
       "      <th>1533</th>\n",
       "      <td>2000.0</td>\n",
       "      <td>NaN</td>\n",
       "      <td>...</td>\n",
       "      <td>NaT</td>\n",
       "      <td>NaT</td>\n",
       "    </tr>\n",
       "  </tbody>\n",
       "</table>\n",
       "<p>1534 rows × 53 columns</p>\n",
       "</div>"
      ],
      "text/plain": [
       "        YEAR  MONTH  ...  OUTAGE.RESTORATION        OUTAGE.START\n",
       "0     2011.0    7.0  ... 2011-07-03 20:00:00 2011-07-01 17:00:00\n",
       "1     2014.0    5.0  ... 2014-05-11 18:39:00 2014-05-11 18:38:00\n",
       "2     2010.0   10.0  ... 2010-10-28 22:00:00 2010-10-26 20:00:00\n",
       "3     2012.0    6.0  ... 2012-06-20 23:00:00 2012-06-19 04:30:00\n",
       "4     2015.0    7.0  ... 2015-07-19 07:00:00 2015-07-18 02:00:00\n",
       "...      ...    ...  ...                 ...                 ...\n",
       "1529  2011.0   12.0  ... 2011-12-06 20:00:00 2011-12-06 08:00:00\n",
       "1530  2006.0    NaN  ...                 NaT                 NaT\n",
       "1531  2009.0    8.0  ... 2009-08-29 23:53:00 2009-08-29 22:54:00\n",
       "1532  2009.0    8.0  ... 2009-08-29 14:01:00 2009-08-29 11:00:00\n",
       "1533  2000.0    NaN  ...                 NaT                 NaT\n",
       "\n",
       "[1534 rows x 53 columns]"
      ]
     },
     "execution_count": 76,
     "metadata": {},
     "output_type": "execute_result"
    }
   ],
   "source": [
    "df['OUTAGE.RESTORATION'] = restoration_time\n",
    "df['OUTAGE.START'] = start_time\n",
    "df = df.drop(['OUTAGE.START.DATE', 'OUTAGE.START.TIME', 'OUTAGE.RESTORATION.DATE', 'OUTAGE.RESTORATION.TIME'], axis = 1)\n",
    "df"
   ]
  },
  {
   "cell_type": "markdown",
   "metadata": {},
   "source": [
    "This part displays the number of occrences for each of the seven unique cause categories for power outages."
   ]
  },
  {
   "cell_type": "code",
   "execution_count": 7,
   "metadata": {},
   "outputs": [
    {
     "data": {
      "text/plain": [
       "severe weather                   763\n",
       "intentional attack               418\n",
       "system operability disruption    127\n",
       "public appeal                     69\n",
       "equipment failure                 60\n",
       "fuel supply emergency             51\n",
       "islanding                         46\n",
       "Name: CAUSE.CATEGORY, dtype: int64"
      ]
     },
     "execution_count": 7,
     "metadata": {},
     "output_type": "execute_result"
    }
   ],
   "source": [
    "df['CAUSE.CATEGORY'].value_counts()"
   ]
  },
  {
   "cell_type": "markdown",
   "metadata": {},
   "source": [
    "### Baseline Model"
   ]
  },
  {
   "cell_type": "markdown",
   "metadata": {},
   "source": [
    "In this section, we will implement our baseline model using 5 features: [`'YEAR'`, `'U.S._STATE'`, `'OUTAGE.DURATION'`, `'POPULATION'`, `'CUSTOMERS.AFFECTED'`] to predict `CAUSE.CATEGORY`."
   ]
  },
  {
   "cell_type": "code",
   "execution_count": 8,
   "metadata": {},
   "outputs": [],
   "source": [
    "# TODO\n",
    "# Y: CUSTOMERS.AFFECTED\n",
    "# X: YEAR, U.S._STATE, CAUSE.CATEGORY, DURATION, POPULATION"
   ]
  },
  {
   "cell_type": "code",
   "execution_count": 9,
   "metadata": {},
   "outputs": [],
   "source": [
    "from sklearn.preprocessing import Binarizer"
   ]
  },
  {
   "cell_type": "markdown",
   "metadata": {},
   "source": [
    "Out of the 55 columns, we only select those that we'll use."
   ]
  },
  {
   "cell_type": "code",
   "execution_count": 10,
   "metadata": {},
   "outputs": [
    {
     "data": {
      "text/html": [
       "<div>\n",
       "<style scoped>\n",
       "    .dataframe tbody tr th:only-of-type {\n",
       "        vertical-align: middle;\n",
       "    }\n",
       "\n",
       "    .dataframe tbody tr th {\n",
       "        vertical-align: top;\n",
       "    }\n",
       "\n",
       "    .dataframe thead th {\n",
       "        text-align: right;\n",
       "    }\n",
       "</style>\n",
       "<table border=\"1\" class=\"dataframe\">\n",
       "  <thead>\n",
       "    <tr style=\"text-align: right;\">\n",
       "      <th></th>\n",
       "      <th>YEAR</th>\n",
       "      <th>U.S._STATE</th>\n",
       "      <th>CAUSE.CATEGORY</th>\n",
       "      <th>OUTAGE.DURATION</th>\n",
       "      <th>POPULATION</th>\n",
       "      <th>CUSTOMERS.AFFECTED</th>\n",
       "      <th>TOTAL.CUSTOMERS</th>\n",
       "    </tr>\n",
       "  </thead>\n",
       "  <tbody>\n",
       "    <tr>\n",
       "      <th>0</th>\n",
       "      <td>2011.0</td>\n",
       "      <td>Minnesota</td>\n",
       "      <td>severe weather</td>\n",
       "      <td>3060</td>\n",
       "      <td>5348119.0</td>\n",
       "      <td>70000.0</td>\n",
       "      <td>2595696.0</td>\n",
       "    </tr>\n",
       "    <tr>\n",
       "      <th>2</th>\n",
       "      <td>2010.0</td>\n",
       "      <td>Minnesota</td>\n",
       "      <td>severe weather</td>\n",
       "      <td>3000</td>\n",
       "      <td>5310903.0</td>\n",
       "      <td>70000.0</td>\n",
       "      <td>2586905.0</td>\n",
       "    </tr>\n",
       "    <tr>\n",
       "      <th>3</th>\n",
       "      <td>2012.0</td>\n",
       "      <td>Minnesota</td>\n",
       "      <td>severe weather</td>\n",
       "      <td>2550</td>\n",
       "      <td>5380443.0</td>\n",
       "      <td>68200.0</td>\n",
       "      <td>2606813.0</td>\n",
       "    </tr>\n",
       "    <tr>\n",
       "      <th>4</th>\n",
       "      <td>2015.0</td>\n",
       "      <td>Minnesota</td>\n",
       "      <td>severe weather</td>\n",
       "      <td>1740</td>\n",
       "      <td>5489594.0</td>\n",
       "      <td>250000.0</td>\n",
       "      <td>2673531.0</td>\n",
       "    </tr>\n",
       "    <tr>\n",
       "      <th>5</th>\n",
       "      <td>2010.0</td>\n",
       "      <td>Minnesota</td>\n",
       "      <td>severe weather</td>\n",
       "      <td>1860</td>\n",
       "      <td>5310903.0</td>\n",
       "      <td>60000.0</td>\n",
       "      <td>2586905.0</td>\n",
       "    </tr>\n",
       "    <tr>\n",
       "      <th>...</th>\n",
       "      <td>...</td>\n",
       "      <td>...</td>\n",
       "      <td>...</td>\n",
       "      <td>...</td>\n",
       "      <td>...</td>\n",
       "      <td>...</td>\n",
       "      <td>...</td>\n",
       "    </tr>\n",
       "    <tr>\n",
       "      <th>1522</th>\n",
       "      <td>2004.0</td>\n",
       "      <td>Idaho</td>\n",
       "      <td>system operability disruption</td>\n",
       "      <td>95</td>\n",
       "      <td>1391802.0</td>\n",
       "      <td>35000.0</td>\n",
       "      <td>701140.0</td>\n",
       "    </tr>\n",
       "    <tr>\n",
       "      <th>1523</th>\n",
       "      <td>2011.0</td>\n",
       "      <td>Idaho</td>\n",
       "      <td>intentional attack</td>\n",
       "      <td>360</td>\n",
       "      <td>1584134.0</td>\n",
       "      <td>0.0</td>\n",
       "      <td>794925.0</td>\n",
       "    </tr>\n",
       "    <tr>\n",
       "      <th>1524</th>\n",
       "      <td>2003.0</td>\n",
       "      <td>Idaho</td>\n",
       "      <td>public appeal</td>\n",
       "      <td>1548</td>\n",
       "      <td>1363380.0</td>\n",
       "      <td>0.0</td>\n",
       "      <td>687334.0</td>\n",
       "    </tr>\n",
       "    <tr>\n",
       "      <th>1526</th>\n",
       "      <td>2016.0</td>\n",
       "      <td>Idaho</td>\n",
       "      <td>intentional attack</td>\n",
       "      <td>0</td>\n",
       "      <td>1680026.0</td>\n",
       "      <td>0.0</td>\n",
       "      <td>849763.0</td>\n",
       "    </tr>\n",
       "    <tr>\n",
       "      <th>1529</th>\n",
       "      <td>2011.0</td>\n",
       "      <td>North Dakota</td>\n",
       "      <td>public appeal</td>\n",
       "      <td>720</td>\n",
       "      <td>685326.0</td>\n",
       "      <td>34500.0</td>\n",
       "      <td>394394.0</td>\n",
       "    </tr>\n",
       "  </tbody>\n",
       "</table>\n",
       "<p>1056 rows × 7 columns</p>\n",
       "</div>"
      ],
      "text/plain": [
       "        YEAR    U.S._STATE                 CAUSE.CATEGORY OUTAGE.DURATION  \\\n",
       "0     2011.0     Minnesota                 severe weather            3060   \n",
       "2     2010.0     Minnesota                 severe weather            3000   \n",
       "3     2012.0     Minnesota                 severe weather            2550   \n",
       "4     2015.0     Minnesota                 severe weather            1740   \n",
       "5     2010.0     Minnesota                 severe weather            1860   \n",
       "...      ...           ...                            ...             ...   \n",
       "1522  2004.0         Idaho  system operability disruption              95   \n",
       "1523  2011.0         Idaho             intentional attack             360   \n",
       "1524  2003.0         Idaho                  public appeal            1548   \n",
       "1526  2016.0         Idaho             intentional attack               0   \n",
       "1529  2011.0  North Dakota                  public appeal             720   \n",
       "\n",
       "      POPULATION  CUSTOMERS.AFFECTED  TOTAL.CUSTOMERS  \n",
       "0      5348119.0             70000.0        2595696.0  \n",
       "2      5310903.0             70000.0        2586905.0  \n",
       "3      5380443.0             68200.0        2606813.0  \n",
       "4      5489594.0            250000.0        2673531.0  \n",
       "5      5310903.0             60000.0        2586905.0  \n",
       "...          ...                 ...              ...  \n",
       "1522   1391802.0             35000.0         701140.0  \n",
       "1523   1584134.0                 0.0         794925.0  \n",
       "1524   1363380.0                 0.0         687334.0  \n",
       "1526   1680026.0                 0.0         849763.0  \n",
       "1529    685326.0             34500.0         394394.0  \n",
       "\n",
       "[1056 rows x 7 columns]"
      ]
     },
     "execution_count": 10,
     "metadata": {},
     "output_type": "execute_result"
    }
   ],
   "source": [
    "ndf = df[['YEAR', 'U.S._STATE', 'CAUSE.CATEGORY', 'OUTAGE.DURATION', 'POPULATION', 'CUSTOMERS.AFFECTED', 'TOTAL.CUSTOMERS']]\n",
    "ndf = ndf.dropna()\n",
    "ndf"
   ]
  },
  {
   "cell_type": "markdown",
   "metadata": {},
   "source": [
    "We first divide them into features and target variable, then, we splitted the training and testing dataset."
   ]
  },
  {
   "cell_type": "code",
   "execution_count": 11,
   "metadata": {},
   "outputs": [],
   "source": [
    "X = ndf[['YEAR', 'U.S._STATE', 'CUSTOMERS.AFFECTED', 'OUTAGE.DURATION', 'POPULATION']]\n",
    "y = ndf['CAUSE.CATEGORY']"
   ]
  },
  {
   "cell_type": "code",
   "execution_count": 12,
   "metadata": {},
   "outputs": [],
   "source": [
    "X_train, X_test, y_train, y_test = train_test_split(X, y, test_size=0.2)"
   ]
  },
  {
   "cell_type": "markdown",
   "metadata": {},
   "source": [
    "This section transforms the catgeorical varaibles using OneHotEncoder and keeps the same values for numeric variables."
   ]
  },
  {
   "cell_type": "code",
   "execution_count": 13,
   "metadata": {},
   "outputs": [],
   "source": [
    "cat = ['YEAR', 'U.S._STATE']\n",
    "num = ['OUTAGE.DURATION', 'CUSTOMERS.AFFECTED', 'POPULATION']\n",
    "\n",
    "cat_func = OneHotEncoder(handle_unknown='ignore')\n",
    "num_func = FunctionTransformer(lambda x:x)\n",
    "\n",
    "ct = ColumnTransformer([('categorical', cat_func, cat), ('numerical', num_func, num)])"
   ]
  },
  {
   "cell_type": "code",
   "execution_count": 14,
   "metadata": {},
   "outputs": [],
   "source": [
    "baseline_pl = Pipeline([('column', ct), ('dtc', (DecisionTreeClassifier(max_depth=15)))])"
   ]
  },
  {
   "cell_type": "code",
   "execution_count": 15,
   "metadata": {},
   "outputs": [
    {
     "data": {
      "text/plain": [
       "Pipeline(steps=[('column',\n",
       "                 ColumnTransformer(transformers=[('categorical',\n",
       "                                                  OneHotEncoder(handle_unknown='ignore'),\n",
       "                                                  ['YEAR', 'U.S._STATE']),\n",
       "                                                 ('numerical',\n",
       "                                                  FunctionTransformer(func=<function <lambda> at 0x000002425A858670>),\n",
       "                                                  ['OUTAGE.DURATION',\n",
       "                                                   'CUSTOMERS.AFFECTED',\n",
       "                                                   'POPULATION'])])),\n",
       "                ('dtc', DecisionTreeClassifier(max_depth=15))])"
      ]
     },
     "execution_count": 15,
     "metadata": {},
     "output_type": "execute_result"
    }
   ],
   "source": [
    "baseline_pl.fit(X_train, y_train)"
   ]
  },
  {
   "cell_type": "markdown",
   "metadata": {},
   "source": [
    "Accuracy is not a good measure, but we will display it anyway for our thought process."
   ]
  },
  {
   "cell_type": "code",
   "execution_count": 16,
   "metadata": {},
   "outputs": [
    {
     "data": {
      "text/plain": [
       "1.0"
      ]
     },
     "execution_count": 16,
     "metadata": {},
     "output_type": "execute_result"
    }
   ],
   "source": [
    "baseline_pl.score(X_train, y_train)"
   ]
  },
  {
   "cell_type": "code",
   "execution_count": 17,
   "metadata": {},
   "outputs": [
    {
     "data": {
      "text/plain": [
       "0.8632075471698113"
      ]
     },
     "execution_count": 17,
     "metadata": {},
     "output_type": "execute_result"
    }
   ],
   "source": [
    "baseline_pl.score(X_test, y_test)"
   ]
  },
  {
   "cell_type": "markdown",
   "metadata": {},
   "source": [
    "We observe that the diagonal entries of the confusion matrix indeed aligns with True Positives of the multi-label confusion matrix. Then, we defined a helper function `calculate_recall` to compute **recall** for each category, and finally calculate their mean as our evaluation metric."
   ]
  },
  {
   "cell_type": "code",
   "execution_count": 18,
   "metadata": {},
   "outputs": [
    {
     "data": {
      "text/plain": [
       "array(['severe weather', 'intentional attack', 'public appeal',\n",
       "       'system operability disruption', 'islanding', 'equipment failure',\n",
       "       'fuel supply emergency'], dtype=object)"
      ]
     },
     "execution_count": 18,
     "metadata": {},
     "output_type": "execute_result"
    }
   ],
   "source": [
    "# categories contains all causes\n",
    "categories = ndf['CAUSE.CATEGORY'].unique()\n",
    "categories"
   ]
  },
  {
   "cell_type": "code",
   "execution_count": 19,
   "metadata": {},
   "outputs": [],
   "source": [
    "base_pred = baseline_pl.predict(X_test)"
   ]
  },
  {
   "cell_type": "code",
   "execution_count": 20,
   "metadata": {},
   "outputs": [
    {
     "data": {
      "text/plain": [
       "array([[136,   3,   2,   6,   0,   4,   0],\n",
       "       [  0,  32,   1,   2,   0,   1,   0],\n",
       "       [  0,   0,   4,   0,   0,   0,   0],\n",
       "       [  2,   0,   0,   8,   0,   0,   0],\n",
       "       [  1,   0,   0,   2,   2,   0,   0],\n",
       "       [  2,   0,   0,   1,   0,   1,   0],\n",
       "       [  1,   1,   0,   0,   0,   0,   0]], dtype=int64)"
      ]
     },
     "execution_count": 20,
     "metadata": {},
     "output_type": "execute_result"
    }
   ],
   "source": [
    "metrics.confusion_matrix(y_test, base_pred,labels=categories)"
   ]
  },
  {
   "cell_type": "code",
   "execution_count": 21,
   "metadata": {},
   "outputs": [
    {
     "data": {
      "text/plain": [
       "array([[[ 55,   6],\n",
       "        [ 15, 136]],\n",
       "\n",
       "       [[172,   4],\n",
       "        [  4,  32]],\n",
       "\n",
       "       [[205,   3],\n",
       "        [  0,   4]],\n",
       "\n",
       "       [[191,  11],\n",
       "        [  2,   8]],\n",
       "\n",
       "       [[207,   0],\n",
       "        [  3,   2]],\n",
       "\n",
       "       [[203,   5],\n",
       "        [  3,   1]],\n",
       "\n",
       "       [[210,   0],\n",
       "        [  2,   0]]], dtype=int64)"
      ]
     },
     "execution_count": 21,
     "metadata": {},
     "output_type": "execute_result"
    }
   ],
   "source": [
    "multi_matrix = metrics.multilabel_confusion_matrix(y_test, base_pred,labels=categories)\n",
    "multi_matrix\n",
    "# Counts of TN / FP / FN / TP"
   ]
  },
  {
   "cell_type": "code",
   "execution_count": 22,
   "metadata": {},
   "outputs": [
    {
     "data": {
      "text/plain": [
       "0.6056501629349311"
      ]
     },
     "execution_count": 22,
     "metadata": {},
     "output_type": "execute_result"
    }
   ],
   "source": [
    "metrics.recall_score(y_test, base_pred, average=\"macro\")"
   ]
  },
  {
   "cell_type": "markdown",
   "metadata": {},
   "source": [
    "We will further attempt feature engineering that could potentially improve our model and determine the performance comparing the average recall with that of our baseline model, and then determine our final model."
   ]
  },
  {
   "cell_type": "markdown",
   "metadata": {},
   "source": [
    "### Feature Engineering: Population Density & Standard Scaler"
   ]
  },
  {
   "cell_type": "markdown",
   "metadata": {},
   "source": [
    "In this section, we will engineer two new features.\n",
    "The first calculates the population density using:\n",
    "\n",
    "$$\n",
    "{\\rm Population\\ density} = \\frac {POPPCT\\_URBAN * POPDEN\\_URBAN + (1 - POPPCT\\_URBAN) * POPDEN\\_RURAL}{100} \n",
    "$$\n",
    "\n",
    "We think that it will be a very effective feature that could potentially increase our recall score, since population density can be an indicative measure for different causes. For example, major outages that occur within areas with higher population density might due to `system operability disruption`.\n",
    "\n",
    "In addition, we'll also engineer new features by applying standard scaler to other numeric columns."
   ]
  },
  {
   "cell_type": "code",
   "execution_count": 23,
   "metadata": {},
   "outputs": [
    {
     "data": {
      "text/html": [
       "<div>\n",
       "<style scoped>\n",
       "    .dataframe tbody tr th:only-of-type {\n",
       "        vertical-align: middle;\n",
       "    }\n",
       "\n",
       "    .dataframe tbody tr th {\n",
       "        vertical-align: top;\n",
       "    }\n",
       "\n",
       "    .dataframe thead th {\n",
       "        text-align: right;\n",
       "    }\n",
       "</style>\n",
       "<table border=\"1\" class=\"dataframe\">\n",
       "  <thead>\n",
       "    <tr style=\"text-align: right;\">\n",
       "      <th></th>\n",
       "      <th>YEAR</th>\n",
       "      <th>U.S._STATE</th>\n",
       "      <th>CAUSE.CATEGORY</th>\n",
       "      <th>OUTAGE.DURATION</th>\n",
       "      <th>POPULATION</th>\n",
       "      <th>CUSTOMERS.AFFECTED</th>\n",
       "      <th>POPPCT_URBAN</th>\n",
       "      <th>POPDEN_URBAN</th>\n",
       "      <th>POPDEN_RURAL</th>\n",
       "    </tr>\n",
       "  </thead>\n",
       "  <tbody>\n",
       "    <tr>\n",
       "      <th>0</th>\n",
       "      <td>2011.0</td>\n",
       "      <td>Minnesota</td>\n",
       "      <td>severe weather</td>\n",
       "      <td>3060</td>\n",
       "      <td>5348119.0</td>\n",
       "      <td>70000.0</td>\n",
       "      <td>73.27</td>\n",
       "      <td>2279</td>\n",
       "      <td>18.2</td>\n",
       "    </tr>\n",
       "    <tr>\n",
       "      <th>2</th>\n",
       "      <td>2010.0</td>\n",
       "      <td>Minnesota</td>\n",
       "      <td>severe weather</td>\n",
       "      <td>3000</td>\n",
       "      <td>5310903.0</td>\n",
       "      <td>70000.0</td>\n",
       "      <td>73.27</td>\n",
       "      <td>2279</td>\n",
       "      <td>18.2</td>\n",
       "    </tr>\n",
       "    <tr>\n",
       "      <th>3</th>\n",
       "      <td>2012.0</td>\n",
       "      <td>Minnesota</td>\n",
       "      <td>severe weather</td>\n",
       "      <td>2550</td>\n",
       "      <td>5380443.0</td>\n",
       "      <td>68200.0</td>\n",
       "      <td>73.27</td>\n",
       "      <td>2279</td>\n",
       "      <td>18.2</td>\n",
       "    </tr>\n",
       "    <tr>\n",
       "      <th>4</th>\n",
       "      <td>2015.0</td>\n",
       "      <td>Minnesota</td>\n",
       "      <td>severe weather</td>\n",
       "      <td>1740</td>\n",
       "      <td>5489594.0</td>\n",
       "      <td>250000.0</td>\n",
       "      <td>73.27</td>\n",
       "      <td>2279</td>\n",
       "      <td>18.2</td>\n",
       "    </tr>\n",
       "    <tr>\n",
       "      <th>5</th>\n",
       "      <td>2010.0</td>\n",
       "      <td>Minnesota</td>\n",
       "      <td>severe weather</td>\n",
       "      <td>1860</td>\n",
       "      <td>5310903.0</td>\n",
       "      <td>60000.0</td>\n",
       "      <td>73.27</td>\n",
       "      <td>2279</td>\n",
       "      <td>18.2</td>\n",
       "    </tr>\n",
       "    <tr>\n",
       "      <th>...</th>\n",
       "      <td>...</td>\n",
       "      <td>...</td>\n",
       "      <td>...</td>\n",
       "      <td>...</td>\n",
       "      <td>...</td>\n",
       "      <td>...</td>\n",
       "      <td>...</td>\n",
       "      <td>...</td>\n",
       "      <td>...</td>\n",
       "    </tr>\n",
       "    <tr>\n",
       "      <th>1522</th>\n",
       "      <td>2004.0</td>\n",
       "      <td>Idaho</td>\n",
       "      <td>system operability disruption</td>\n",
       "      <td>95</td>\n",
       "      <td>1391802.0</td>\n",
       "      <td>35000.0</td>\n",
       "      <td>70.58</td>\n",
       "      <td>2216.8</td>\n",
       "      <td>5.6</td>\n",
       "    </tr>\n",
       "    <tr>\n",
       "      <th>1523</th>\n",
       "      <td>2011.0</td>\n",
       "      <td>Idaho</td>\n",
       "      <td>intentional attack</td>\n",
       "      <td>360</td>\n",
       "      <td>1584134.0</td>\n",
       "      <td>0.0</td>\n",
       "      <td>70.58</td>\n",
       "      <td>2216.8</td>\n",
       "      <td>5.6</td>\n",
       "    </tr>\n",
       "    <tr>\n",
       "      <th>1524</th>\n",
       "      <td>2003.0</td>\n",
       "      <td>Idaho</td>\n",
       "      <td>public appeal</td>\n",
       "      <td>1548</td>\n",
       "      <td>1363380.0</td>\n",
       "      <td>0.0</td>\n",
       "      <td>70.58</td>\n",
       "      <td>2216.8</td>\n",
       "      <td>5.6</td>\n",
       "    </tr>\n",
       "    <tr>\n",
       "      <th>1526</th>\n",
       "      <td>2016.0</td>\n",
       "      <td>Idaho</td>\n",
       "      <td>intentional attack</td>\n",
       "      <td>0</td>\n",
       "      <td>1680026.0</td>\n",
       "      <td>0.0</td>\n",
       "      <td>70.58</td>\n",
       "      <td>2216.8</td>\n",
       "      <td>5.6</td>\n",
       "    </tr>\n",
       "    <tr>\n",
       "      <th>1529</th>\n",
       "      <td>2011.0</td>\n",
       "      <td>North Dakota</td>\n",
       "      <td>public appeal</td>\n",
       "      <td>720</td>\n",
       "      <td>685326.0</td>\n",
       "      <td>34500.0</td>\n",
       "      <td>59.9</td>\n",
       "      <td>2192.2</td>\n",
       "      <td>3.9</td>\n",
       "    </tr>\n",
       "  </tbody>\n",
       "</table>\n",
       "<p>1047 rows × 9 columns</p>\n",
       "</div>"
      ],
      "text/plain": [
       "        YEAR    U.S._STATE                 CAUSE.CATEGORY OUTAGE.DURATION  \\\n",
       "0     2011.0     Minnesota                 severe weather            3060   \n",
       "2     2010.0     Minnesota                 severe weather            3000   \n",
       "3     2012.0     Minnesota                 severe weather            2550   \n",
       "4     2015.0     Minnesota                 severe weather            1740   \n",
       "5     2010.0     Minnesota                 severe weather            1860   \n",
       "...      ...           ...                            ...             ...   \n",
       "1522  2004.0         Idaho  system operability disruption              95   \n",
       "1523  2011.0         Idaho             intentional attack             360   \n",
       "1524  2003.0         Idaho                  public appeal            1548   \n",
       "1526  2016.0         Idaho             intentional attack               0   \n",
       "1529  2011.0  North Dakota                  public appeal             720   \n",
       "\n",
       "      POPULATION  CUSTOMERS.AFFECTED POPPCT_URBAN POPDEN_URBAN POPDEN_RURAL  \n",
       "0      5348119.0             70000.0        73.27         2279         18.2  \n",
       "2      5310903.0             70000.0        73.27         2279         18.2  \n",
       "3      5380443.0             68200.0        73.27         2279         18.2  \n",
       "4      5489594.0            250000.0        73.27         2279         18.2  \n",
       "5      5310903.0             60000.0        73.27         2279         18.2  \n",
       "...          ...                 ...          ...          ...          ...  \n",
       "1522   1391802.0             35000.0        70.58       2216.8          5.6  \n",
       "1523   1584134.0                 0.0        70.58       2216.8          5.6  \n",
       "1524   1363380.0                 0.0        70.58       2216.8          5.6  \n",
       "1526   1680026.0                 0.0        70.58       2216.8          5.6  \n",
       "1529    685326.0             34500.0         59.9       2192.2          3.9  \n",
       "\n",
       "[1047 rows x 9 columns]"
      ]
     },
     "execution_count": 23,
     "metadata": {},
     "output_type": "execute_result"
    }
   ],
   "source": [
    "ndf = df[['YEAR', 'U.S._STATE', 'CAUSE.CATEGORY', 'OUTAGE.DURATION', 'POPULATION', 'CUSTOMERS.AFFECTED', 'POPPCT_URBAN', 'POPDEN_URBAN', 'POPDEN_RURAL']]\n",
    "ndf = ndf.dropna()\n",
    "ndf"
   ]
  },
  {
   "cell_type": "code",
   "execution_count": 24,
   "metadata": {},
   "outputs": [],
   "source": [
    "X = ndf[['YEAR', 'U.S._STATE', 'CUSTOMERS.AFFECTED', 'OUTAGE.DURATION', 'POPULATION', 'POPPCT_URBAN', 'POPDEN_URBAN', 'POPDEN_RURAL']]\n",
    "y = ndf['CAUSE.CATEGORY']"
   ]
  },
  {
   "cell_type": "code",
   "execution_count": 25,
   "metadata": {},
   "outputs": [],
   "source": [
    "X_train_n, X_test_n, y_train_n, y_test_n = train_test_split(X, y, test_size=0.2)"
   ]
  },
  {
   "cell_type": "markdown",
   "metadata": {},
   "source": [
    "We define a function that computes the population density for each obsevation."
   ]
  },
  {
   "cell_type": "code",
   "execution_count": 26,
   "metadata": {},
   "outputs": [],
   "source": [
    "def pop_den(df):\n",
    "    # us area, unit: square kilometer\n",
    "    den = (df['POPPCT_URBAN'] * df['POPDEN_URBAN'] + (1 - df['POPPCT_URBAN']) * df['POPDEN_RURAL']) / 100\n",
    "    return den.to_frame()"
   ]
  },
  {
   "cell_type": "markdown",
   "metadata": {},
   "source": [
    "Based on baseline model, we still apply `OneHotEncoder` for categorical variables `YEAR` and `U.S._STATE`. But for variables regarding population, we pass them into our function transformer `pop_den`, and other numeric variables to `StandardScaler`."
   ]
  },
  {
   "cell_type": "code",
   "execution_count": 27,
   "metadata": {},
   "outputs": [],
   "source": [
    "cat = ['YEAR', 'U.S._STATE']\n",
    "num = ['OUTAGE.DURATION', 'CUSTOMERS.AFFECTED']\n",
    "popden = ['POPPCT_URBAN', 'POPDEN_URBAN', 'POPDEN_RURAL']\n",
    "\n",
    "cat_func = OneHotEncoder(handle_unknown='ignore')\n",
    "\n",
    "num_func = StandardScaler()\n",
    "\n",
    "pop_func = FunctionTransformer(pop_den)\n",
    "\n",
    "ct = ColumnTransformer([('categorical', cat_func, cat), ('numerical', num_func, num), ('density', pop_func, popden)])"
   ]
  },
  {
   "cell_type": "code",
   "execution_count": 28,
   "metadata": {},
   "outputs": [],
   "source": [
    "#cat_func = OneHotEncoder(handle_unknown='ignore')\n",
    "\n",
    "#num_func = FunctionTransformer(lambda x: x * x)\n",
    "\n",
    "#ct = ColumnTransformer([('categorical', cat_func, cat), ('numerical', num_func, num)])"
   ]
  },
  {
   "cell_type": "markdown",
   "metadata": {},
   "source": [
    "We pass in the column transformer and DTC to our final pipeline (remain using max depth 15 until we perform grid search)."
   ]
  },
  {
   "cell_type": "code",
   "execution_count": 29,
   "metadata": {},
   "outputs": [],
   "source": [
    "final_pl = Pipeline([('column', ct), ('dtc', (DecisionTreeClassifier(max_depth=15)))])"
   ]
  },
  {
   "cell_type": "code",
   "execution_count": 30,
   "metadata": {},
   "outputs": [
    {
     "data": {
      "text/plain": [
       "Pipeline(steps=[('column',\n",
       "                 ColumnTransformer(transformers=[('categorical',\n",
       "                                                  OneHotEncoder(handle_unknown='ignore'),\n",
       "                                                  ['YEAR', 'U.S._STATE']),\n",
       "                                                 ('numerical', StandardScaler(),\n",
       "                                                  ['OUTAGE.DURATION',\n",
       "                                                   'CUSTOMERS.AFFECTED']),\n",
       "                                                 ('density',\n",
       "                                                  FunctionTransformer(func=<function pop_den at 0x000002425A8C15E0>),\n",
       "                                                  ['POPPCT_URBAN',\n",
       "                                                   'POPDEN_URBAN',\n",
       "                                                   'POPDEN_RURAL'])])),\n",
       "                ('dtc', DecisionTreeClassifier(max_depth=15))])"
      ]
     },
     "execution_count": 30,
     "metadata": {},
     "output_type": "execute_result"
    }
   ],
   "source": [
    "final_pl.fit(X_train_n, y_train_n)"
   ]
  },
  {
   "cell_type": "code",
   "execution_count": 31,
   "metadata": {},
   "outputs": [],
   "source": [
    "final_pred = final_pl.predict(X_test_n)"
   ]
  },
  {
   "cell_type": "code",
   "execution_count": 32,
   "metadata": {},
   "outputs": [
    {
     "data": {
      "text/plain": [
       "0.5626503126503125"
      ]
     },
     "execution_count": 32,
     "metadata": {},
     "output_type": "execute_result"
    }
   ],
   "source": [
    "metrics.recall_score(y_test_n, final_pred, average = 'macro')"
   ]
  },
  {
   "cell_type": "markdown",
   "metadata": {},
   "source": [
    "We observed that we obtained a much higher recall score after engineered two new features. To further justify this, we will fit the baseline model again using this training/testing set and observe the recall score."
   ]
  },
  {
   "cell_type": "code",
   "execution_count": 33,
   "metadata": {},
   "outputs": [
    {
     "data": {
      "text/plain": [
       "Pipeline(steps=[('column',\n",
       "                 ColumnTransformer(transformers=[('categorical',\n",
       "                                                  OneHotEncoder(handle_unknown='ignore'),\n",
       "                                                  ['YEAR', 'U.S._STATE']),\n",
       "                                                 ('numerical',\n",
       "                                                  FunctionTransformer(func=<function <lambda> at 0x000002425A858670>),\n",
       "                                                  ['OUTAGE.DURATION',\n",
       "                                                   'CUSTOMERS.AFFECTED',\n",
       "                                                   'POPULATION'])])),\n",
       "                ('dtc', DecisionTreeClassifier(max_depth=15))])"
      ]
     },
     "execution_count": 33,
     "metadata": {},
     "output_type": "execute_result"
    }
   ],
   "source": [
    "baseline_pl.fit(X_train_n, y_train_n)"
   ]
  },
  {
   "cell_type": "code",
   "execution_count": 34,
   "metadata": {},
   "outputs": [],
   "source": [
    "base_pred = baseline_pl.predict(X_test_n)"
   ]
  },
  {
   "cell_type": "code",
   "execution_count": 35,
   "metadata": {},
   "outputs": [
    {
     "name": "stderr",
     "output_type": "stream",
     "text": [
      "E:\\Python\\Anaconda3\\lib\\site-packages\\sklearn\\metrics\\_classification.py:1221: UndefinedMetricWarning: Recall is ill-defined and being set to 0.0 in labels with no true samples. Use `zero_division` parameter to control this behavior.\n",
      "  _warn_prf(average, modifier, msg_start, len(result))\n"
     ]
    },
    {
     "data": {
      "text/plain": [
       "0.605223149866007"
      ]
     },
     "execution_count": 35,
     "metadata": {},
     "output_type": "execute_result"
    }
   ],
   "source": [
    "metrics.recall_score(y_test_n, base_pred, average = 'macro')"
   ]
  },
  {
   "cell_type": "markdown",
   "metadata": {},
   "source": [
    "Indeed, our final pipeline got improved from the basline model. However, to obtain the final model we still have to run grid search to get best parameters."
   ]
  },
  {
   "cell_type": "markdown",
   "metadata": {},
   "source": [
    "### Final Model"
   ]
  },
  {
   "cell_type": "code",
   "execution_count": 36,
   "metadata": {},
   "outputs": [
    {
     "data": {
      "text/plain": [
       "dict_keys(['memory', 'steps', 'verbose', 'column', 'dtc', 'column__n_jobs', 'column__remainder', 'column__sparse_threshold', 'column__transformer_weights', 'column__transformers', 'column__verbose', 'column__categorical', 'column__numerical', 'column__density', 'column__categorical__categories', 'column__categorical__drop', 'column__categorical__dtype', 'column__categorical__handle_unknown', 'column__categorical__sparse', 'column__numerical__copy', 'column__numerical__with_mean', 'column__numerical__with_std', 'column__density__accept_sparse', 'column__density__check_inverse', 'column__density__func', 'column__density__inv_kw_args', 'column__density__inverse_func', 'column__density__kw_args', 'column__density__validate', 'dtc__ccp_alpha', 'dtc__class_weight', 'dtc__criterion', 'dtc__max_depth', 'dtc__max_features', 'dtc__max_leaf_nodes', 'dtc__min_impurity_decrease', 'dtc__min_impurity_split', 'dtc__min_samples_leaf', 'dtc__min_samples_split', 'dtc__min_weight_fraction_leaf', 'dtc__presort', 'dtc__random_state', 'dtc__splitter'])"
      ]
     },
     "execution_count": 36,
     "metadata": {},
     "output_type": "execute_result"
    }
   ],
   "source": [
    "# on baseline\n",
    "final_pl.get_params().keys()"
   ]
  },
  {
   "cell_type": "code",
   "execution_count": 37,
   "metadata": {},
   "outputs": [],
   "source": [
    "grid_params = {\n",
    "    'dtc__max_depth': [2, 3, 4, 5, 6, 7, 8, 9, 10, 11, 15, 20],\n",
    "    'dtc__min_samples_split': [9, 11, 13, 15, 17, 20], \n",
    "    'dtc__min_samples_leaf': [1, 2, 3, 4, 5]\n",
    "}"
   ]
  },
  {
   "cell_type": "code",
   "execution_count": 38,
   "metadata": {},
   "outputs": [],
   "source": [
    "search = GridSearchCV(final_pl, grid_params, cv = 3)"
   ]
  },
  {
   "cell_type": "code",
   "execution_count": 39,
   "metadata": {},
   "outputs": [
    {
     "data": {
      "text/plain": [
       "GridSearchCV(cv=3,\n",
       "             estimator=Pipeline(steps=[('column',\n",
       "                                        ColumnTransformer(transformers=[('categorical',\n",
       "                                                                         OneHotEncoder(handle_unknown='ignore'),\n",
       "                                                                         ['YEAR',\n",
       "                                                                          'U.S._STATE']),\n",
       "                                                                        ('numerical',\n",
       "                                                                         StandardScaler(),\n",
       "                                                                         ['OUTAGE.DURATION',\n",
       "                                                                          'CUSTOMERS.AFFECTED']),\n",
       "                                                                        ('density',\n",
       "                                                                         FunctionTransformer(func=<function pop_den at 0x000002425A8C15E0>),\n",
       "                                                                         ['POPPCT_URBAN',\n",
       "                                                                          'POPDEN_URBAN',\n",
       "                                                                          'POPDEN_RURAL'])])),\n",
       "                                       ('dtc',\n",
       "                                        DecisionTreeClassifier(max_depth=15))]),\n",
       "             param_grid={'dtc__max_depth': [2, 3, 4, 5, 6, 7, 8, 9, 10, 11, 15,\n",
       "                                            20],\n",
       "                         'dtc__min_samples_leaf': [1, 2, 3, 4, 5],\n",
       "                         'dtc__min_samples_split': [9, 11, 13, 15, 17, 20]})"
      ]
     },
     "execution_count": 39,
     "metadata": {},
     "output_type": "execute_result"
    }
   ],
   "source": [
    "search.fit(X_train_n, y_train_n)"
   ]
  },
  {
   "cell_type": "code",
   "execution_count": 40,
   "metadata": {},
   "outputs": [
    {
     "data": {
      "text/plain": [
       "{'dtc__max_depth': 5, 'dtc__min_samples_leaf': 5, 'dtc__min_samples_split': 13}"
      ]
     },
     "execution_count": 40,
     "metadata": {},
     "output_type": "execute_result"
    }
   ],
   "source": [
    "search.best_params_"
   ]
  },
  {
   "cell_type": "code",
   "execution_count": 41,
   "metadata": {},
   "outputs": [],
   "source": [
    "final_model = Pipeline([('column', ct), ('dtc', (DecisionTreeClassifier(max_depth=5, min_samples_leaf=2, min_samples_split=17)))])"
   ]
  },
  {
   "cell_type": "code",
   "execution_count": 42,
   "metadata": {},
   "outputs": [
    {
     "data": {
      "text/plain": [
       "Pipeline(steps=[('column',\n",
       "                 ColumnTransformer(transformers=[('categorical',\n",
       "                                                  OneHotEncoder(handle_unknown='ignore'),\n",
       "                                                  ['YEAR', 'U.S._STATE']),\n",
       "                                                 ('numerical', StandardScaler(),\n",
       "                                                  ['OUTAGE.DURATION',\n",
       "                                                   'CUSTOMERS.AFFECTED']),\n",
       "                                                 ('density',\n",
       "                                                  FunctionTransformer(func=<function pop_den at 0x000002425A8C15E0>),\n",
       "                                                  ['POPPCT_URBAN',\n",
       "                                                   'POPDEN_URBAN',\n",
       "                                                   'POPDEN_RURAL'])])),\n",
       "                ('dtc',\n",
       "                 DecisionTreeClassifier(max_depth=5, min_samples_leaf=2,\n",
       "                                        min_samples_split=17))])"
      ]
     },
     "execution_count": 42,
     "metadata": {},
     "output_type": "execute_result"
    }
   ],
   "source": [
    "final_model.fit(X_train_n, y_train_n)"
   ]
  },
  {
   "cell_type": "code",
   "execution_count": 43,
   "metadata": {},
   "outputs": [],
   "source": [
    "final_m_pred = final_model.predict(X_test_n)"
   ]
  },
  {
   "cell_type": "code",
   "execution_count": 44,
   "metadata": {},
   "outputs": [
    {
     "data": {
      "text/plain": [
       "0.48531445406445406"
      ]
     },
     "execution_count": 44,
     "metadata": {},
     "output_type": "execute_result"
    }
   ],
   "source": [
    "metrics.recall_score(y_test_n, final_m_pred, average = 'macro')"
   ]
  },
  {
   "cell_type": "markdown",
   "metadata": {},
   "source": [
    "According to instruction, we will take the model as is. We could further improve the efficiency if we adjust Grid Search so that it would find the best parameter that optimizes recall score, currently it finds the best parameters for optimizing accuracy."
   ]
  },
  {
   "cell_type": "markdown",
   "metadata": {},
   "source": [
    "### Fairness Evaluation"
   ]
  },
  {
   "cell_type": "markdown",
   "metadata": {},
   "source": [
    "To assess the fairness and bias of our model, we specifically chose the column `POPPCT_URBAN` to construct our X and Y subsets and hypothesized that the urban population percentage doesn't affect our recall scores.\n",
    "\n",
    "We will binarize our datasets into:\n",
    "\n",
    "`1`: which has `POPPCT_URBAN` higher than the median urban population percentage;\n",
    "\n",
    "`0`: which are lower than the median.\n",
    "\n",
    "Our test statistic would be the **absolute difference** between the **recall score** of these two subsets. \n",
    "\n",
    "***Null Hypothesis***: Urban population percentage, either higher or lower than its' median, doesn't have an effect on our recall score.(i.e. the difference between the recall scores between two subsets are due to chance)\n",
    "\n",
    "***Alternative Hypothesis***: The urban population percentage does influence our recall score on two subsets."
   ]
  },
  {
   "cell_type": "code",
   "execution_count": 45,
   "metadata": {},
   "outputs": [],
   "source": [
    "import warnings\n",
    "warnings.filterwarnings('ignore')"
   ]
  },
  {
   "cell_type": "code",
   "execution_count": 46,
   "metadata": {},
   "outputs": [
    {
     "data": {
      "text/html": [
       "<div>\n",
       "<style scoped>\n",
       "    .dataframe tbody tr th:only-of-type {\n",
       "        vertical-align: middle;\n",
       "    }\n",
       "\n",
       "    .dataframe tbody tr th {\n",
       "        vertical-align: top;\n",
       "    }\n",
       "\n",
       "    .dataframe thead th {\n",
       "        text-align: right;\n",
       "    }\n",
       "</style>\n",
       "<table border=\"1\" class=\"dataframe\">\n",
       "  <thead>\n",
       "    <tr style=\"text-align: right;\">\n",
       "      <th></th>\n",
       "      <th>YEAR</th>\n",
       "      <th>U.S._STATE</th>\n",
       "      <th>CAUSE.CATEGORY</th>\n",
       "      <th>OUTAGE.DURATION</th>\n",
       "      <th>POPULATION</th>\n",
       "      <th>CUSTOMERS.AFFECTED</th>\n",
       "      <th>POPPCT_URBAN</th>\n",
       "      <th>POPDEN_URBAN</th>\n",
       "      <th>POPDEN_RURAL</th>\n",
       "    </tr>\n",
       "  </thead>\n",
       "  <tbody>\n",
       "    <tr>\n",
       "      <th>0</th>\n",
       "      <td>2011.0</td>\n",
       "      <td>Minnesota</td>\n",
       "      <td>severe weather</td>\n",
       "      <td>3060</td>\n",
       "      <td>5348119.0</td>\n",
       "      <td>70000.0</td>\n",
       "      <td>73.27</td>\n",
       "      <td>2279</td>\n",
       "      <td>18.2</td>\n",
       "    </tr>\n",
       "    <tr>\n",
       "      <th>2</th>\n",
       "      <td>2010.0</td>\n",
       "      <td>Minnesota</td>\n",
       "      <td>severe weather</td>\n",
       "      <td>3000</td>\n",
       "      <td>5310903.0</td>\n",
       "      <td>70000.0</td>\n",
       "      <td>73.27</td>\n",
       "      <td>2279</td>\n",
       "      <td>18.2</td>\n",
       "    </tr>\n",
       "    <tr>\n",
       "      <th>3</th>\n",
       "      <td>2012.0</td>\n",
       "      <td>Minnesota</td>\n",
       "      <td>severe weather</td>\n",
       "      <td>2550</td>\n",
       "      <td>5380443.0</td>\n",
       "      <td>68200.0</td>\n",
       "      <td>73.27</td>\n",
       "      <td>2279</td>\n",
       "      <td>18.2</td>\n",
       "    </tr>\n",
       "    <tr>\n",
       "      <th>4</th>\n",
       "      <td>2015.0</td>\n",
       "      <td>Minnesota</td>\n",
       "      <td>severe weather</td>\n",
       "      <td>1740</td>\n",
       "      <td>5489594.0</td>\n",
       "      <td>250000.0</td>\n",
       "      <td>73.27</td>\n",
       "      <td>2279</td>\n",
       "      <td>18.2</td>\n",
       "    </tr>\n",
       "    <tr>\n",
       "      <th>5</th>\n",
       "      <td>2010.0</td>\n",
       "      <td>Minnesota</td>\n",
       "      <td>severe weather</td>\n",
       "      <td>1860</td>\n",
       "      <td>5310903.0</td>\n",
       "      <td>60000.0</td>\n",
       "      <td>73.27</td>\n",
       "      <td>2279</td>\n",
       "      <td>18.2</td>\n",
       "    </tr>\n",
       "    <tr>\n",
       "      <th>...</th>\n",
       "      <td>...</td>\n",
       "      <td>...</td>\n",
       "      <td>...</td>\n",
       "      <td>...</td>\n",
       "      <td>...</td>\n",
       "      <td>...</td>\n",
       "      <td>...</td>\n",
       "      <td>...</td>\n",
       "      <td>...</td>\n",
       "    </tr>\n",
       "    <tr>\n",
       "      <th>1522</th>\n",
       "      <td>2004.0</td>\n",
       "      <td>Idaho</td>\n",
       "      <td>system operability disruption</td>\n",
       "      <td>95</td>\n",
       "      <td>1391802.0</td>\n",
       "      <td>35000.0</td>\n",
       "      <td>70.58</td>\n",
       "      <td>2216.8</td>\n",
       "      <td>5.6</td>\n",
       "    </tr>\n",
       "    <tr>\n",
       "      <th>1523</th>\n",
       "      <td>2011.0</td>\n",
       "      <td>Idaho</td>\n",
       "      <td>intentional attack</td>\n",
       "      <td>360</td>\n",
       "      <td>1584134.0</td>\n",
       "      <td>0.0</td>\n",
       "      <td>70.58</td>\n",
       "      <td>2216.8</td>\n",
       "      <td>5.6</td>\n",
       "    </tr>\n",
       "    <tr>\n",
       "      <th>1524</th>\n",
       "      <td>2003.0</td>\n",
       "      <td>Idaho</td>\n",
       "      <td>public appeal</td>\n",
       "      <td>1548</td>\n",
       "      <td>1363380.0</td>\n",
       "      <td>0.0</td>\n",
       "      <td>70.58</td>\n",
       "      <td>2216.8</td>\n",
       "      <td>5.6</td>\n",
       "    </tr>\n",
       "    <tr>\n",
       "      <th>1526</th>\n",
       "      <td>2016.0</td>\n",
       "      <td>Idaho</td>\n",
       "      <td>intentional attack</td>\n",
       "      <td>0</td>\n",
       "      <td>1680026.0</td>\n",
       "      <td>0.0</td>\n",
       "      <td>70.58</td>\n",
       "      <td>2216.8</td>\n",
       "      <td>5.6</td>\n",
       "    </tr>\n",
       "    <tr>\n",
       "      <th>1529</th>\n",
       "      <td>2011.0</td>\n",
       "      <td>North Dakota</td>\n",
       "      <td>public appeal</td>\n",
       "      <td>720</td>\n",
       "      <td>685326.0</td>\n",
       "      <td>34500.0</td>\n",
       "      <td>59.9</td>\n",
       "      <td>2192.2</td>\n",
       "      <td>3.9</td>\n",
       "    </tr>\n",
       "  </tbody>\n",
       "</table>\n",
       "<p>1047 rows × 9 columns</p>\n",
       "</div>"
      ],
      "text/plain": [
       "        YEAR    U.S._STATE                 CAUSE.CATEGORY OUTAGE.DURATION  \\\n",
       "0     2011.0     Minnesota                 severe weather            3060   \n",
       "2     2010.0     Minnesota                 severe weather            3000   \n",
       "3     2012.0     Minnesota                 severe weather            2550   \n",
       "4     2015.0     Minnesota                 severe weather            1740   \n",
       "5     2010.0     Minnesota                 severe weather            1860   \n",
       "...      ...           ...                            ...             ...   \n",
       "1522  2004.0         Idaho  system operability disruption              95   \n",
       "1523  2011.0         Idaho             intentional attack             360   \n",
       "1524  2003.0         Idaho                  public appeal            1548   \n",
       "1526  2016.0         Idaho             intentional attack               0   \n",
       "1529  2011.0  North Dakota                  public appeal             720   \n",
       "\n",
       "      POPULATION  CUSTOMERS.AFFECTED POPPCT_URBAN POPDEN_URBAN POPDEN_RURAL  \n",
       "0      5348119.0             70000.0        73.27         2279         18.2  \n",
       "2      5310903.0             70000.0        73.27         2279         18.2  \n",
       "3      5380443.0             68200.0        73.27         2279         18.2  \n",
       "4      5489594.0            250000.0        73.27         2279         18.2  \n",
       "5      5310903.0             60000.0        73.27         2279         18.2  \n",
       "...          ...                 ...          ...          ...          ...  \n",
       "1522   1391802.0             35000.0        70.58       2216.8          5.6  \n",
       "1523   1584134.0                 0.0        70.58       2216.8          5.6  \n",
       "1524   1363380.0                 0.0        70.58       2216.8          5.6  \n",
       "1526   1680026.0                 0.0        70.58       2216.8          5.6  \n",
       "1529    685326.0             34500.0         59.9       2192.2          3.9  \n",
       "\n",
       "[1047 rows x 9 columns]"
      ]
     },
     "execution_count": 46,
     "metadata": {},
     "output_type": "execute_result"
    }
   ],
   "source": [
    "last_df = ndf.copy()\n",
    "last_df"
   ]
  },
  {
   "cell_type": "code",
   "execution_count": 47,
   "metadata": {},
   "outputs": [
    {
     "data": {
      "text/plain": [
       "84.05"
      ]
     },
     "execution_count": 47,
     "metadata": {},
     "output_type": "execute_result"
    }
   ],
   "source": [
    "pop_med = np.median(last_df['POPPCT_URBAN'])\n",
    "pop_med"
   ]
  },
  {
   "cell_type": "code",
   "execution_count": 48,
   "metadata": {},
   "outputs": [
    {
     "data": {
      "text/html": [
       "<div>\n",
       "<style scoped>\n",
       "    .dataframe tbody tr th:only-of-type {\n",
       "        vertical-align: middle;\n",
       "    }\n",
       "\n",
       "    .dataframe tbody tr th {\n",
       "        vertical-align: top;\n",
       "    }\n",
       "\n",
       "    .dataframe thead th {\n",
       "        text-align: right;\n",
       "    }\n",
       "</style>\n",
       "<table border=\"1\" class=\"dataframe\">\n",
       "  <thead>\n",
       "    <tr style=\"text-align: right;\">\n",
       "      <th></th>\n",
       "      <th>YEAR</th>\n",
       "      <th>U.S._STATE</th>\n",
       "      <th>CAUSE.CATEGORY</th>\n",
       "      <th>OUTAGE.DURATION</th>\n",
       "      <th>POPULATION</th>\n",
       "      <th>CUSTOMERS.AFFECTED</th>\n",
       "      <th>POPPCT_URBAN</th>\n",
       "      <th>POPDEN_URBAN</th>\n",
       "      <th>POPDEN_RURAL</th>\n",
       "      <th>BINARIZED</th>\n",
       "    </tr>\n",
       "  </thead>\n",
       "  <tbody>\n",
       "    <tr>\n",
       "      <th>0</th>\n",
       "      <td>2011.0</td>\n",
       "      <td>Minnesota</td>\n",
       "      <td>severe weather</td>\n",
       "      <td>3060</td>\n",
       "      <td>5348119.0</td>\n",
       "      <td>70000.0</td>\n",
       "      <td>73.27</td>\n",
       "      <td>2279</td>\n",
       "      <td>18.2</td>\n",
       "      <td>0</td>\n",
       "    </tr>\n",
       "    <tr>\n",
       "      <th>2</th>\n",
       "      <td>2010.0</td>\n",
       "      <td>Minnesota</td>\n",
       "      <td>severe weather</td>\n",
       "      <td>3000</td>\n",
       "      <td>5310903.0</td>\n",
       "      <td>70000.0</td>\n",
       "      <td>73.27</td>\n",
       "      <td>2279</td>\n",
       "      <td>18.2</td>\n",
       "      <td>0</td>\n",
       "    </tr>\n",
       "    <tr>\n",
       "      <th>3</th>\n",
       "      <td>2012.0</td>\n",
       "      <td>Minnesota</td>\n",
       "      <td>severe weather</td>\n",
       "      <td>2550</td>\n",
       "      <td>5380443.0</td>\n",
       "      <td>68200.0</td>\n",
       "      <td>73.27</td>\n",
       "      <td>2279</td>\n",
       "      <td>18.2</td>\n",
       "      <td>0</td>\n",
       "    </tr>\n",
       "    <tr>\n",
       "      <th>4</th>\n",
       "      <td>2015.0</td>\n",
       "      <td>Minnesota</td>\n",
       "      <td>severe weather</td>\n",
       "      <td>1740</td>\n",
       "      <td>5489594.0</td>\n",
       "      <td>250000.0</td>\n",
       "      <td>73.27</td>\n",
       "      <td>2279</td>\n",
       "      <td>18.2</td>\n",
       "      <td>0</td>\n",
       "    </tr>\n",
       "    <tr>\n",
       "      <th>5</th>\n",
       "      <td>2010.0</td>\n",
       "      <td>Minnesota</td>\n",
       "      <td>severe weather</td>\n",
       "      <td>1860</td>\n",
       "      <td>5310903.0</td>\n",
       "      <td>60000.0</td>\n",
       "      <td>73.27</td>\n",
       "      <td>2279</td>\n",
       "      <td>18.2</td>\n",
       "      <td>0</td>\n",
       "    </tr>\n",
       "    <tr>\n",
       "      <th>...</th>\n",
       "      <td>...</td>\n",
       "      <td>...</td>\n",
       "      <td>...</td>\n",
       "      <td>...</td>\n",
       "      <td>...</td>\n",
       "      <td>...</td>\n",
       "      <td>...</td>\n",
       "      <td>...</td>\n",
       "      <td>...</td>\n",
       "      <td>...</td>\n",
       "    </tr>\n",
       "    <tr>\n",
       "      <th>1522</th>\n",
       "      <td>2004.0</td>\n",
       "      <td>Idaho</td>\n",
       "      <td>system operability disruption</td>\n",
       "      <td>95</td>\n",
       "      <td>1391802.0</td>\n",
       "      <td>35000.0</td>\n",
       "      <td>70.58</td>\n",
       "      <td>2216.8</td>\n",
       "      <td>5.6</td>\n",
       "      <td>0</td>\n",
       "    </tr>\n",
       "    <tr>\n",
       "      <th>1523</th>\n",
       "      <td>2011.0</td>\n",
       "      <td>Idaho</td>\n",
       "      <td>intentional attack</td>\n",
       "      <td>360</td>\n",
       "      <td>1584134.0</td>\n",
       "      <td>0.0</td>\n",
       "      <td>70.58</td>\n",
       "      <td>2216.8</td>\n",
       "      <td>5.6</td>\n",
       "      <td>0</td>\n",
       "    </tr>\n",
       "    <tr>\n",
       "      <th>1524</th>\n",
       "      <td>2003.0</td>\n",
       "      <td>Idaho</td>\n",
       "      <td>public appeal</td>\n",
       "      <td>1548</td>\n",
       "      <td>1363380.0</td>\n",
       "      <td>0.0</td>\n",
       "      <td>70.58</td>\n",
       "      <td>2216.8</td>\n",
       "      <td>5.6</td>\n",
       "      <td>0</td>\n",
       "    </tr>\n",
       "    <tr>\n",
       "      <th>1526</th>\n",
       "      <td>2016.0</td>\n",
       "      <td>Idaho</td>\n",
       "      <td>intentional attack</td>\n",
       "      <td>0</td>\n",
       "      <td>1680026.0</td>\n",
       "      <td>0.0</td>\n",
       "      <td>70.58</td>\n",
       "      <td>2216.8</td>\n",
       "      <td>5.6</td>\n",
       "      <td>0</td>\n",
       "    </tr>\n",
       "    <tr>\n",
       "      <th>1529</th>\n",
       "      <td>2011.0</td>\n",
       "      <td>North Dakota</td>\n",
       "      <td>public appeal</td>\n",
       "      <td>720</td>\n",
       "      <td>685326.0</td>\n",
       "      <td>34500.0</td>\n",
       "      <td>59.9</td>\n",
       "      <td>2192.2</td>\n",
       "      <td>3.9</td>\n",
       "      <td>0</td>\n",
       "    </tr>\n",
       "  </tbody>\n",
       "</table>\n",
       "<p>1047 rows × 10 columns</p>\n",
       "</div>"
      ],
      "text/plain": [
       "        YEAR    U.S._STATE                 CAUSE.CATEGORY OUTAGE.DURATION  \\\n",
       "0     2011.0     Minnesota                 severe weather            3060   \n",
       "2     2010.0     Minnesota                 severe weather            3000   \n",
       "3     2012.0     Minnesota                 severe weather            2550   \n",
       "4     2015.0     Minnesota                 severe weather            1740   \n",
       "5     2010.0     Minnesota                 severe weather            1860   \n",
       "...      ...           ...                            ...             ...   \n",
       "1522  2004.0         Idaho  system operability disruption              95   \n",
       "1523  2011.0         Idaho             intentional attack             360   \n",
       "1524  2003.0         Idaho                  public appeal            1548   \n",
       "1526  2016.0         Idaho             intentional attack               0   \n",
       "1529  2011.0  North Dakota                  public appeal             720   \n",
       "\n",
       "      POPULATION  CUSTOMERS.AFFECTED POPPCT_URBAN POPDEN_URBAN POPDEN_RURAL  \\\n",
       "0      5348119.0             70000.0        73.27         2279         18.2   \n",
       "2      5310903.0             70000.0        73.27         2279         18.2   \n",
       "3      5380443.0             68200.0        73.27         2279         18.2   \n",
       "4      5489594.0            250000.0        73.27         2279         18.2   \n",
       "5      5310903.0             60000.0        73.27         2279         18.2   \n",
       "...          ...                 ...          ...          ...          ...   \n",
       "1522   1391802.0             35000.0        70.58       2216.8          5.6   \n",
       "1523   1584134.0                 0.0        70.58       2216.8          5.6   \n",
       "1524   1363380.0                 0.0        70.58       2216.8          5.6   \n",
       "1526   1680026.0                 0.0        70.58       2216.8          5.6   \n",
       "1529    685326.0             34500.0         59.9       2192.2          3.9   \n",
       "\n",
       "      BINARIZED  \n",
       "0             0  \n",
       "2             0  \n",
       "3             0  \n",
       "4             0  \n",
       "5             0  \n",
       "...         ...  \n",
       "1522          0  \n",
       "1523          0  \n",
       "1524          0  \n",
       "1526          0  \n",
       "1529          0  \n",
       "\n",
       "[1047 rows x 10 columns]"
      ]
     },
     "execution_count": 48,
     "metadata": {},
     "output_type": "execute_result"
    }
   ],
   "source": [
    "# first binarize the dataframe\n",
    "last_df['BINARIZED'] = (last_df['POPPCT_URBAN'] >= pop_med).astype(int)\n",
    "last_df"
   ]
  },
  {
   "cell_type": "code",
   "execution_count": 49,
   "metadata": {},
   "outputs": [],
   "source": [
    "set1 = last_df[last_df['BINARIZED'] == 1]\n",
    "set2 = last_df[last_df['BINARIZED'] == 0]"
   ]
  },
  {
   "cell_type": "code",
   "execution_count": 50,
   "metadata": {},
   "outputs": [],
   "source": [
    "X_1 = set1[['YEAR', 'U.S._STATE', 'CUSTOMERS.AFFECTED', 'OUTAGE.DURATION', 'POPULATION', 'POPPCT_URBAN', 'POPDEN_URBAN', 'POPDEN_RURAL']]\n",
    "y_1 = set1['CAUSE.CATEGORY']\n",
    "X_2 = set2[['YEAR', 'U.S._STATE', 'CUSTOMERS.AFFECTED', 'OUTAGE.DURATION', 'POPULATION', 'POPPCT_URBAN', 'POPDEN_URBAN', 'POPDEN_RURAL']]\n",
    "y_2 = set2['CAUSE.CATEGORY']"
   ]
  },
  {
   "cell_type": "code",
   "execution_count": 61,
   "metadata": {},
   "outputs": [],
   "source": [
    "X_1_train, X_1_test, y_1_train, y_1_test = train_test_split(X_1, y_1, test_size=0.2)\n",
    "X_2_train, X_2_test, y_2_train, y_2_test = train_test_split(X_2, y_2, test_size=0.2)"
   ]
  },
  {
   "cell_type": "code",
   "execution_count": 62,
   "metadata": {},
   "outputs": [],
   "source": [
    "model_1 = final_model.fit(X_1_train, y_1_train)\n",
    "model_2 = final_model.fit(X_2_train, y_2_train)"
   ]
  },
  {
   "cell_type": "code",
   "execution_count": 63,
   "metadata": {},
   "outputs": [
    {
     "data": {
      "text/plain": [
       "0.06289403547468064"
      ]
     },
     "execution_count": 63,
     "metadata": {},
     "output_type": "execute_result"
    }
   ],
   "source": [
    "recall_1 = metrics.recall_score(y_1_test, model_1.predict(X_1_test), average = 'macro')\n",
    "recall_2 = metrics.recall_score(y_2_test, model_2.predict(X_2_test), average = 'macro')\n",
    "obs_stat = abs(recall_1 - recall_2)\n",
    "obs_stat"
   ]
  },
  {
   "cell_type": "code",
   "execution_count": 70,
   "metadata": {},
   "outputs": [],
   "source": [
    "N = 1000\n",
    "\n",
    "test_stats = []\n",
    "\n",
    "for _ in range(N):\n",
    "    cur_df = last_df.copy()\n",
    "    cur_df['POPPCT_URBAN'] = np.random.permutation(cur_df['POPPCT_URBAN'])\n",
    "    cur_df['BINARIZED'] = (cur_df['POPPCT_URBAN'] >= pop_med).astype(int)\n",
    "    cur1 = cur_df[cur_df['BINARIZED'] == 1]\n",
    "    cur2 = cur_df[cur_df['BINARIZED'] == 0]\n",
    "    \n",
    "    X_1 = cur1[['YEAR', 'U.S._STATE', 'CUSTOMERS.AFFECTED', 'OUTAGE.DURATION', 'POPULATION', 'POPPCT_URBAN', 'POPDEN_URBAN', 'POPDEN_RURAL']]\n",
    "    y_1 = cur1['CAUSE.CATEGORY']\n",
    "    X_2 = cur2[['YEAR', 'U.S._STATE', 'CUSTOMERS.AFFECTED', 'OUTAGE.DURATION', 'POPULATION', 'POPPCT_URBAN', 'POPDEN_URBAN', 'POPDEN_RURAL']]\n",
    "    y_2 = cur2['CAUSE.CATEGORY']\n",
    "    \n",
    "    X_1_train, X_1_test, y_1_train, y_1_test = train_test_split(X_1, y_1, test_size=0.2)\n",
    "    X_2_train, X_2_test, y_2_train, y_2_test = train_test_split(X_2, y_2, test_size=0.2)\n",
    "    \n",
    "    model_1 = final_model.fit(X_1_train, y_1_train)\n",
    "    model_2 = final_model.fit(X_2_train, y_2_train)\n",
    "    \n",
    "    recall_1 = metrics.recall_score(y_1_test, model_1.predict(X_1_test), average = 'macro')\n",
    "    recall_2 = metrics.recall_score(y_2_test, model_2.predict(X_2_test), average = 'macro')\n",
    "    test_stat = abs(recall_1 - recall_2)\n",
    "    \n",
    "    test_stats.append(test_stat)"
   ]
  },
  {
   "cell_type": "code",
   "execution_count": 71,
   "metadata": {},
   "outputs": [
    {
     "data": {
      "text/plain": [
       "<matplotlib.axes._subplots.AxesSubplot at 0x2425b6444c0>"
      ]
     },
     "execution_count": 71,
     "metadata": {},
     "output_type": "execute_result"
    },
    {
     "data": {
      "image/png": "[encoded data removed]",
      "text/plain": [
       "<Figure size 432x288 with 1 Axes>"
      ]
     },
     "metadata": {
      "image/png": {
       "height": 248,
       "width": 388
      },
      "needs_background": "light"
     },
     "output_type": "display_data"
    }
   ],
   "source": [
    "sns.histplot(test_stats, thresh=obs_stat)"
   ]
  },
  {
   "cell_type": "code",
   "execution_count": 72,
   "metadata": {},
   "outputs": [
    {
     "data": {
      "text/plain": [
       "0.598"
      ]
     },
     "execution_count": 72,
     "metadata": {},
     "output_type": "execute_result"
    }
   ],
   "source": [
    "p_val = (test_stats >= obs_stat).mean()\n",
    "p_val"
   ]
  },
  {
   "cell_type": "markdown",
   "metadata": {},
   "source": [
    "Pick a significance level 0.05, this is much higher than the threshold. Hence, we failed to reject our null hypothesis. This is saying that, according to our test, the urban population percentage has limited or no influence on the recall score. We failed to observe any parity between high urban population percentage areas and low urban population percentage areas when predicting the outage categories. "
   ]
  },
  {
   "cell_type": "code",
   "execution_count": null,
   "metadata": {},
   "outputs": [],
   "source": []
  }
 ],
 "metadata": {
  "kernelspec": {
   "display_name": "Python 3",
   "language": "python",
   "name": "python3"
  },
  "language_info": {
   "codemirror_mode": {
    "name": "ipython",
    "version": 3
   },
   "file_extension": ".py",
   "mimetype": "text/x-python",
   "name": "python",
   "nbconvert_exporter": "python",
   "pygments_lexer": "ipython3",
   "version": "3.8.3"
  }
 },
 "nbformat": 4,
 "nbformat_minor": 2
}
